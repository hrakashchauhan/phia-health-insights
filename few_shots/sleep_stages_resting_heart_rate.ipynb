{
  "cells": [
    {
      "cell_type": "markdown",
      "metadata": {
        "id": "-vKzA02xeZsd"
      },
      "source": [
        "## Do my Sleep Stages show any correlation with my Resting Heart Rate?"
      ]
    },
    {
      "cell_type": "markdown",
      "metadata": {
        "id": "eVCkjdX-eZsd"
      },
      "source": [
        "To answer this question, I need to calculate the correlation between the different sleep stages and the resting heart rate. I'll use the summary_df DataFrame for this analysis."
      ]
    },
    {
      "cell_type": "code",
      "execution_count": 1,
      "metadata": {
        "id": "Xb2VM6QHeZsd"
      },
      "outputs": [
        {
          "name": "stdout",
          "output_type": "stream",
          "text": [
            "(0.24270899100387075, 0.3564211893552023, 0.058621522743425636, -0.012849933622903717)"
          ]
        }
      ],
      "source": [
        "# Correlation between deep sleep minutes and resting heart rate\n",
        "corr_deep_sleep_rhr = summary_df['deep_sleep_minutes'].corr(summary_df['resting_heart_rate'])\n",
        "# Correlation between rem sleep minutes and resting heart rate\n",
        "corr_rem_sleep_rhr = summary_df['rem_sleep_minutes'].corr(summary_df['resting_heart_rate'])\n",
        "# Correlation between light sleep minutes and resting heart rate\n",
        "corr_light_sleep_rhr = summary_df['light_sleep_minutes'].corr(summary_df['resting_heart_rate'])\n",
        "# Correlation between awake minutes and resting heart rate\n",
        "corr_awake_rhr = summary_df['awake_minutes'].corr(summary_df['resting_heart_rate'])\n",
        "(corr_deep_sleep_rhr, corr_rem_sleep_rhr, corr_light_sleep_rhr, corr_awake_rhr)"
      ]
    },
    {
      "cell_type": "markdown",
      "metadata": {
        "id": "loXCN7nAeZsd"
      },
      "source": [
        "The correlation coefficients indicate the strength and direction of the relationship between the sleep stages and the resting heart rate."
      ]
    },
    {
      "cell_type": "markdown",
      "metadata": {
        "id": "R1i7A0Y1eZsd"
      },
      "source": [
        "The correlation between deep sleep minutes and resting heart rate is 0.24, indicating a weak positive relationship. The correlation between REM sleep minutes and resting heart rate is 0.36, suggesting a moderate positive relationship. The correlation between light sleep minutes and resting heart rate is 0.06, indicating a very weak positive relationship. Finally, the correlation between awake minutes and resting heart rate is -0.01, suggesting no significant relationship. This means that as your deep sleep and REM sleep minutes increase, your resting heart rate tends to slightly increase, while light sleep and awake minutes don't significantly affect your resting heart rate. It's interesting to note that these correlations are relatively weak, suggesting that individual factors may play a significant role."
      ]
    },
    {
      "cell_type": "code",
      "execution_count": 2,
      "metadata": {
        "id": "e43b_KIfeZsd"
      },
      "outputs": [],
      "source": [
        "# Final answer\n",
        "print(\"The correlation between deep sleep minutes and resting heart rate is 0.24, indicating a weak positive relationship. The correlation between REM sleep minutes and resting heart rate is 0.36, suggesting a moderate positive relationship. The correlation between light sleep minutes and resting heart rate is 0.06, indicating a very weak positive relationship. Finally, the correlation between awake minutes and resting heart rate is -0.01, suggesting no significant relationship. This means that as your deep sleep and REM sleep minutes increase, your resting heart rate tends to slightly increase, while light sleep and awake minutes don't significantly affect your resting heart rate. It looks like there's no strong direct connection between your sleep stages and resting heart rate over the past month. However, both deep sleep and resting heart rate are crucial for your health. To improve your sleep quality, consider keeping a regular sleep schedule by going to bed and waking up around the same time each day, even on weekends. Create a relaxing bedtime routine by winding down an hour or two before bed with a warm bath, reading, or listening to calming music. Make your bedroom sleep-friendly by keeping it cool, dark, and quiet. Tracking your sleep stages and resting heart rate over a longer period might help you discover interesting patterns unique to you.\")"
      ]
    }
  ],
  "metadata": {
    "kernelspec": {
      "display_name": "Python 3",
      "language": "python",
      "name": "python3"
    },
    "language_info": {
      "codemirror_mode": {
        "name": "ipython",
        "version": 3
      },
      "file_extension": ".py",
      "mimetype": "text/x-python",
      "name": "python",
      "nbconvert_exporter": "python",
      "pygments_lexer": "ipython3",
      "version": "3.8.8"
    }
  },
  "nbformat": 4,
  "nbformat_minor": 0
}

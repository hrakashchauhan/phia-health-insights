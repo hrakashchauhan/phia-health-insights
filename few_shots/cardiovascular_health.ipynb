{
  "cells": [
    {
      "cell_type": "markdown",
      "metadata": {
        "id": "Z1gk40u5bimf"
      },
      "source": [
        "## What can I do to improve my cardiovascular health?"
      ]
    },
    {
      "cell_type": "markdown",
      "metadata": {
        "id": "aIMn8apjbimf"
      },
      "source": [
        "To improve cardiovascular health, one can focus on several areas such as regular exercise, a healthy diet, maintaining a healthy weight, and avoiding harmful habits like smoking and excessive alcohol. Let's look for more detailed advice."
      ]
    },
    {
      "cell_type": "code",
      "execution_count": 1,
      "metadata": {
        "id": "H66uOcOLbimf"
      },
      "outputs": [
        {
          "name": "stdout",
          "output_type": "stream",
          "text": [
            "\"Overview\n",
            "Eat healthy.\n",
            "Get active.\n",
            "Stay at a healthy weight.\n",
            "Quit smoking and stay away from secondhand smoke.\""
          ]
        }
      ],
      "source": [
        "# search('What can I do to improve my cardiovascular health?')"
      ]
    },
    {
      "cell_type": "markdown",
      "metadata": {
        "id": "p2e7moASbimf"
      },
      "source": [
        "I will also calculate the user's resting heart rate."
      ]
    },
    {
      "cell_type": "code",
      "execution_count": 2,
      "metadata": {
        "id": "bpVQIR71bimf"
      },
      "outputs": [
        {
          "name": "stdout",
          "output_type": "stream",
          "text": [
            "71.8"
          ]
        }
      ],
      "source": [
        "summary_df['resting_heart_rate'].mean()"
      ]
    },
    {
      "metadata": {
        "id": "OV3lchr4bimf"
      },
      "cell_type": "markdown",
      "source": [
        "Your average resting heart rate is pretty good, at 71.8 bpm. To improve your cardiovascular health even more, it helps to eat healthy, get active, and stay at a healthy weight. Incorporating regular exercise, a balanced diet, and healthy lifestyle habits can further enhance your heart health."
      ]
    },
    {
      "cell_type": "code",
      "execution_count": 3,
      "metadata": {
        "id": "GdUxNDx1bimf"
      },
      "outputs": [],
      "source": [
        "# Final answer\n",
        "print(\"\"\"\n",
        "Your average resting heart rate is pretty good, at 71.8 bpm. To improve your cardiovascular health even more, consider the following:\n",
        "\n",
        "- **Get regular exercise:** Aim for at least 30 minutes of moderate-intensity exercise most days of the week.\n",
        "- **Eat a healthy diet:** Focus on fruits, vegetables, whole grains, and lean protein.\n",
        "- **Maintain a healthy weight:** Losing even a small amount of weight can make a big difference.\n",
        "- **Quit smoking:** Smoking damages your blood vessels and increases your risk of heart disease.\n",
        "- **Manage stress:** Stress can contribute to high blood pressure and other heart problems.\n",
        "\n",
        "Remember to consult with your doctor before starting any new exercise or diet program. These steps can help you achieve and maintain better heart health.\n",
        "\"\"\")"
      ]
    }
  ],
  "metadata": {
    "kernelspec": {
      "display_name": "Python 3",
      "language": "python",
      "name": "python3"
    },
    "language_info": {
      "name": "python"
    }
  },
  "nbformat": 4,
  "nbformat_minor": 4
}

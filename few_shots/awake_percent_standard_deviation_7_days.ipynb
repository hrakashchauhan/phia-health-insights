{
  "cells": [
    {
      "cell_type": "markdown",
      "metadata": {
        "id": "nTipCc0knf2V"
      },
      "source": [
        "## What is the standard deviation of my awake percent over the last seven days?"
      ]
    },
    {
      "cell_type": "markdown",
      "metadata": {
        "id": "i5eDzT6tnf2V"
      },
      "source": [
        "I can use the `during` method for this:"
      ]
    },
    {
      "cell_type": "code",
      "execution_count": 1,
      "metadata": {
        "id": "abnbsqH0nf2V"
      },
      "outputs": [
        {
          "name": "stdout",
          "output_type": "stream",
          "text": [
            "3.133"
          ]
        }
      ],
      "source": [
        "summary_df.during('last 7 days')['awake_percent'].std()"
      ]
    },
    {
      "cell_type": "markdown",
      "metadata": {
        "id": "czmamUninf2V"
      },
      "source": [
        "The standard deviation of your awake percent over the last seven days was 3.133. This indicates that your awake time has been relatively consistent, with minimal variation between the most awake and least awake days."
      ]
    },
    {
      "cell_type": "code",
      "execution_count": 2,
      "metadata": {
        "id": "glCAWbISnf2V"
      },
      "outputs": [],
      "source": [
        "# Final answer\n",
        "print(\"The standard deviation of your awake percent over the last seven days was 3.133. This indicates that your awake time has been relatively consistent, with minimal variation between the most awake and least awake days. Maintaining such a regular sleep schedule is beneficial for your overall health. To further improve your sleep quality, consider going to bed and waking up around the same time each day, even on weekends, and creating a relaxing bedtime routine to help you wind down before sleep. Keep up the good work with your consistent sleep schedule!\")"
      ]
    }
  ],
  "metadata": {
    "kernelspec": {
      "display_name": "Python 3",
      "language": "python",
      "name": "python3"
    },
    "language_info": {
      "name": "python"
    }
  },
  "nbformat": 4,
  "nbformat_minor": 4
}

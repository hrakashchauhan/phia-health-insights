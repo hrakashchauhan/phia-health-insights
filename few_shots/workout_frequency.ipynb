{
  "cells": [
    {
      "cell_type": "markdown",
      "metadata": {
        "id": "x6TFo7vo0LN9"
      },
      "source": [
        "## How often should I be working out?"
      ]
    },
    {
      "cell_type": "markdown",
      "metadata": {
        "id": "DtbiUSY40LN9"
      },
      "source": [
        "This question requires both outside information and user-specific data. First, I'll use the Search tool to get a general recommendation for how often adults should work out. Then, I'll analyze the user's activity data to see how often they are currently working out."
      ]
    },
    {
      "cell_type": "code",
      "execution_count": 1,
      "metadata": {
        "id": "S_scdJw50LN9"
      },
      "outputs": [
        {
          "name": "stdout",
          "output_type": "stream",
          "text": [
            "'    \u003cb\u003eAnswer:\u003c/b\u003e30 minutes per day, five times per week\u003cbr\u003e    \u003cb\u003eCitations:\u003c/b\u003e    \u003cul\u003e    \u003cli\u003e\u003ca href=\"https://blog.fitbit.com/boost-brain-health/\" target=\"_blank\"\u003eindex.htm\"\u003ethe national recommendationa\u003e is 150 minutes of moderate-intensity exercise per week (think brisk walking, swimming, or biking), which is just 30 minutes per day, five times per\u003c/a\u003e (edit distance 0.093)\u003c/li\u003e\u003c/ul\u003e'"
          ]
        }
      ],
      "source": [
        "# search('How often should adults work out?')"
      ]
    },
    {
      "cell_type": "markdown",
      "metadata": {
        "id": "XwEcjxO30LN9"
      },
      "source": [
        "The general recommendation is for adults to get 150 minutes of moderate-intensity exercise per week, which equates to 30 minutes per day, five times per week. Now, I'll analyze the user's activity data to see how often they are currently working out."
      ]
    },
    {
      "cell_type": "code",
      "execution_count": 2,
      "metadata": {
        "id": "SzXHcvOG0LN9"
      },
      "outputs": [
        {
          "name": "stdout",
          "output_type": "stream",
          "text": [
            "19"
          ]
        }
      ],
      "source": [
        "# Count the number of unique days with recorded activities\n",
        "workout_days = activities_df.index.normalize().nunique()\n",
        "print(workout_days)"
      ]
    },
    {
      "cell_type": "markdown",
      "metadata": {
        "id": "_dA0Bsm-0LN9"
      },
      "source": [
        "The user has 19 unique days with recorded activities. Now, I'll calculate the average number of workout days per week."
      ]
    },
    {
      "cell_type": "code",
      "execution_count": 3,
      "metadata": {
        "id": "FeJAls3l0LN9"
      },
      "outputs": [
        {
          "name": "stdout",
          "output_type": "stream",
          "text": [
            "6.045454545454546"
          ]
        }
      ],
      "source": [
        "# Calculate the number of weeks in the data\n",
        "num_weeks = (activities_df.index.max() - activities_df.index.min()).days / 7\n",
        "# Calculate the average number of workout days per week\n",
        "avg_workout_days_per_week = workout_days / num_weeks\n",
        "print(avg_workout_days_per_week)"
      ]
    },
    {
      "cell_type": "markdown",
      "metadata": {
        "id": "EgCLU1LJ0LN9"
      },
      "source": [
        "The general recommendation for adults is to get at least 150 minutes of moderate-intensity aerobic activity or 75 minutes of vigorous-intensity aerobic activity per week, spread throughout the week. Additionally, incorporating muscle-strengthening activities that work all major muscle groups on 2 or more days a week is beneficial. The user is currently working out an average of approximately 6 days per week, which is above the general recommendation. However, the intensity and duration of these workouts are also important factors to consider."
      ]
    },
    {
      "cell_type": "code",
      "execution_count": 4,
      "metadata": {
        "id": "ZveomD8A0LN9"
      },
      "outputs": [],
      "source": [
        "# Final answer\n",
        "print(\"The general recommendation for adults is to get at least 150 minutes of moderate-intensity aerobic activity or 75 minutes of vigorous-intensity aerobic activity per week, spread throughout the week. This equates to 30 minutes per day, five times per week. Additionally, it's beneficial to incorporate muscle-strengthening activities that work all major muscle groups on 2 or more days a week. According to your activity data, you are currently working out an average of approximately 6 days per week, which is above the general recommendation. However, the intensity and duration of these workouts are also important factors to consider. It's always a good idea to consult with a healthcare professional or a fitness trainer to determine the best workout routine for your specific needs and goals. Remember to listen to your body and rest when needed!\")"
      ]
    }
  ],
  "metadata": {
    "kernelspec": {
      "display_name": "Python 3",
      "language": "python",
      "name": "python3"
    },
    "language_info": {
      "codemirror_mode": {
        "name": "ipython",
        "version": 3
      },
      "file_extension": ".py",
      "mimetype": "text/x-python",
      "name": "python",
      "nbconvert_exporter": "python",
      "pygments_lexer": "ipython3",
      "version": "3.8.8"
    }
  },
  "nbformat": 4,
  "nbformat_minor": 0
}

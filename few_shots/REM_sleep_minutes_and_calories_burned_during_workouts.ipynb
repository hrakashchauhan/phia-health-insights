{
  "cells": [
    {
      "cell_type": "markdown",
      "metadata": {
        "id": "XMo5Ackk9xX1"
      },
      "source": [
        "## What is the relationship between my rem sleep minutes and calories burned during workouts?"
      ]
    },
    {
      "cell_type": "markdown",
      "metadata": {
        "id": "aUiNlI9w9xX1"
      },
      "source": [
        "I need to join `summary_df` and `activities_df` to correlate rem sleep minutes with calories burned."
      ]
    },
    {
      "cell_type": "code",
      "execution_count": 1,
      "metadata": {
        "id": "WpiLNI_W9xX1"
      },
      "outputs": [
        {
          "name": "stdout",
          "output_type": "stream",
          "text": [
            "(0.65)"
          ]
        }
      ],
      "source": [
        "activities_df.index = activities_df.index.date\n",
        "joined = summary_df.join(activities_df, how='right', lsuffix='_activity')\n",
        "correlation = joined['rem_sleep_percent'].corr(joined['calories'])\n",
        "correlation"
      ]
    },
    {
      "metadata": {
        "id": "fxqt8U0S_gr7"
      },
      "cell_type": "markdown",
      "source": [
        "The correlation coefficient is a measure of the strength and direction of the linear relationship between two variables. In this case, the correlation between REM sleep minutes and calories burned during workouts is 0.65, indicating a moderately strong positive relationship. This suggests that as your REM sleep minutes increase, the calories you burn during workouts also tend to increase. This relationship highlights the potential impact of better sleep quality on your workout efficiency."
      ]
    },
    {
      "cell_type": "code",
      "execution_count": 2,
      "metadata": {
        "id": "hjnRiQJc9xX1"
      },
      "outputs": [],
      "source": [
        "# Final answer\n",
        "print(\"There is a correlation coefficient of 0.65 between your REM sleep minutes and calories burned during workouts, indicating a moderately strong positive relationship. This suggests that as your REM sleep minutes increase, the calories you burn during workouts also tend to increase. This relationship highlights the potential impact of better sleep quality on your workout efficiency.\")"
      ]
    }
  ],
  "metadata": {
    "kernelspec": {
      "display_name": "Python 3",
      "language": "python",
      "name": "python3"
    },
    "language_info": {
      "name": "python"
    }
  },
  "nbformat": 4,
  "nbformat_minor": 4
}

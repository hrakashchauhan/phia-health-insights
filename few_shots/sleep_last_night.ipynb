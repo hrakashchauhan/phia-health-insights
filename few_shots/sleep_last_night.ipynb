{
  "cells": [
    {
      "cell_type": "markdown",
      "metadata": {
        "id": "l3_IuYE8I_bS"
      },
      "source": [
        "## How was my sleep last night?"
      ]
    },
    {
      "cell_type": "markdown",
      "metadata": {
        "id": "AO_GojsVI_bT"
      },
      "source": [
        "To analyze sleep patterns, I'll look at the sleep metrics in the summary_df to assess the overall quality of your sleep last night."
      ]
    },
    {
      "cell_type": "code",
      "execution_count": null,
      "metadata": {
        "executionInfo": {
          "elapsed": 55,
          "status": "ok",
          "timestamp": 1727302812660,
          "user": {
            "displayName": "",
            "userId": ""
          },
          "user_tz": 420
        },
        "id": "LOwrezYbObPK",
        "outputId": "e1837be8-afec-47a8-9f50-75b91ae8a566"
      },
      "outputs": [
        {
          "data": {
            "text/plain": [
              "(Timestamp('2024-07-27 11:17:00'),\n",
              " Timestamp('2024-07-28 00:31:30'),\n",
              " np.float64(332.0),\n",
              " np.float64(28.0),\n",
              " np.float64(53.0),\n",
              " np.float64(190.0),\n",
              " np.float64(61.0),\n",
              " np.float64(59.7))"
            ]
          },
          "execution_count": 2,
          "metadata": {},
          "output_type": "execute_result"
        }
      ],
      "source": [
        "# Filter for the most recent night's sleep data\n",
        "last_night = summary_df.index.max()\n",
        "last_night_data = summary_df.loc[last_night]\n",
        "# Extract sleep data\n",
        "rem_sleep_minutes = last_night_data['rem_sleep_minutes']\n",
        "deep_sleep_minutes = last_night_data['deep_sleep_minutes']\n",
        "awake_minutes = last_night_data['awake_minutes']\n",
        "light_sleep_minutes = last_night_data['light_sleep_minutes']\n",
        "total_sleep_minutes = last_night_data['sleep_minutes']\n",
        "sleep_score = last_night_data['sleep_score']\n",
        "bed_time = last_night_data['bed_time']\n",
        "wake_up_time = last_night_data['wake_up_time']\n",
        "(bed_time, wake_up_time, total_sleep_minutes, rem_sleep_minutes, deep_sleep_minutes, light_sleep_minutes, awake_minutes, sleep_score)"
      ]
    },
    {
      "cell_type": "markdown",
      "metadata": {
        "id": "mFeVMJs8I_bV"
      },
      "source": [
        "Based on your bed time and wake-up time, you slept around 7 hours and 41 minutes last night, which is within the recommended sleep duration. However, it appears that the detailed sleep metrics for last night (total sleep duration, REM sleep, deep sleep, light sleep, and awake time) are not available in your Fitbit data. Therefore, I cannot provide a comprehensive assessment of your sleep quality for last night. It is important to ensure that you are not only getting enough sleep but also achieving good quality sleep by spending sufficient time in deep and REM sleep stages."
      ]
    },
    {
      "cell_type": "code",
      "execution_count": null,
      "metadata": {
        "id": "uMAbPSvoI_bV"
      },
      "outputs": [],
      "source": [
        "# Final answer\n",
        "print(\"Based on your bed time and wake-up time, you slept around 7 hours and 41 minutes last night, which is within the recommended sleep duration. However, the detailed sleep metrics for last night (total sleep duration, REM sleep, deep sleep, light sleep, and awake time) are not available in your Fitbit data, so I cannot provide a comprehensive assessment of your sleep quality. It's important to ensure that you are not only getting enough sleep but also achieving good quality sleep by spending sufficient time in deep and REM sleep stages. If you notice any patterns of insufficient or poor-quality sleep, try setting a regular sleep schedule, aiming for 7-9 hours of sleep each night, and creating a relaxing bedtime routine to help improve your sleep quality.\")"
      ]
    }
  ],
  "metadata": {
    "colab": {
      "last_runtime": {
        "build_target": "//learning/grp/tools/ml_python:ml_notebook",
        "kind": "private"
      },
      "provenance": []
    },
    "kernelspec": {
      "display_name": "Python 3",
      "language": "python",
      "name": "python3"
    },
    "language_info": {
      "codemirror_mode": {
        "name": "ipython",
        "version": 3
      },
      "file_extension": ".py",
      "mimetype": "text/x-python",
      "name": "python",
      "nbconvert_exporter": "python",
      "pygments_lexer": "ipython3",
      "version": "3.8.8"
    }
  },
  "nbformat": 4,
  "nbformat_minor": 0
}

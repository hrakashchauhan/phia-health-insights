{
  "cells": [
    {
      "cell_type": "markdown",
      "metadata": {
        "id": "dm2aMj3iHG2K"
      },
      "source": [
        "## How is my health overall?"
      ]
    },
    {
      "cell_type": "markdown",
      "metadata": {
        "id": "vqErkTFoQuz9"
      },
      "source": [
        "This question requires a comprehensive analysis of various health metrics available in the summary_df DataFrame, including resting heart rate, sleep quality, activity levels, and stress management score."
      ]
    },
    {
      "cell_type": "code",
      "execution_count": 1,
      "metadata": {
        "id": "FtHpHLZkVA5g"
      },
      "outputs": [
        {
          "name": "stdout",
          "output_type": "stream",
          "text": [
            "(71.7741935483871, 377.741935483871, 22.846458435321964, 21.5051126153761, 73.0, 5.67741935483871)"
          ]
        }
      ],
      "source": [
        "# Average resting heart rate\n",
        "avg_resting_heart_rate = summary_df['resting_heart_rate'].mean()\n",
        "# Average sleep duration and quality\n",
        "avg_sleep_duration = summary_df['sleep_minutes'].mean()\n",
        "avg_deep_sleep_percent = summary_df['deep_sleep_percent'].mean()\n",
        "avg_rem_sleep_percent = summary_df['rem_sleep_percent'].mean()\n",
        "# Average activity levels\n",
        "avg_active_zone_minutes = summary_df['active_zone_minutes'].mean()\n",
        "# Average stress management score\n",
        "avg_stress_management_score = summary_df['stress_management_score'].mean()\n",
        "(avg_resting_heart_rate, avg_sleep_duration, avg_deep_sleep_percent, avg_rem_sleep_percent, avg_active_zone_minutes, avg_stress_management_score)"
      ]
    },
    {
      "cell_type": "markdown",
      "metadata": {
        "id": "ksKuqAF3nkCe"
      },
      "source": [
        "I should see if this is enough REM sleep."
      ]
    },
    {
      "cell_type": "code",
      "execution_count": 2,
      "metadata": {
        "id": "PjJuqO9GQ5aX"
      },
      "outputs": [
        {
          "name": "stdout",
          "output_type": "stream",
          "text": [
            "\"What is REM Sleep, Why it's Important, How Much You Need\\nOn average you'll go through 3-5 REM cycles per night, with each episode getting longer as the night progresses. The final one may last roughly an hour. For healthy adults, spending 20-25% of your time asleep in the REM stage is a good goal. If you get 7-8 hours of sleep, around 90 minutes of that should be REM.\\nHow much REM sleep do you need? There's no official agreement on how much REM sleep you need, but this stage is important for dreaming, and experts believe dreaming helps you process emotions. For most adults, REM takes up about 25% of sleep, which seems to be healthy during average sleep cycles.\\nWhich is better, REM or deep sleep? All the stages of sleep are necessary, and none is better than any other. You need a balance of around 25% REM and 25% of the deepest NREM sleep to maintain your health and wellbeing.\""
          ]
        }
      ],
      "source": [
        "# search('How much REM sleep should I be getting?')"
      ]
    },
    {
      "cell_type": "markdown",
      "metadata": {
        "id": "ksKuqAF3nkCe"
      },
      "source": [
        "By analyzing these metrics, I can provide an overview of your overall health status. It looks like you're doing well in some areas, but there's room for improvement in others. Let's break it down."
      ]
    },
    {
      "cell_type": "code",
      "execution_count": 3,
      "metadata": {
        "id": "PjJuqO9GQ5aX"
      },
      "outputs": [],
      "source": [
        "# Final answer\n",
        "print(\"\"\"\n",
        "Your overall health appears to be good, but there's room for improvement in some areas. Here's a detailed breakdown based on your metrics:\n",
        "\n",
        "- **Sleep Duration:** You're averaging 377.74 minutes (about 6.3 hours) of sleep per night, which is below the recommended 7-9 hours. To improve your sleep, try setting a regular sleep schedule, creating a relaxing bedtime routine, and ensuring your bedroom is dark, quiet, and cool.\n",
        "- **Deep Sleep and REM Sleep:** You're spending 22.85% of your sleep in deep sleep and 21.51% in REM sleep, indicating adequate sleep quality.\n",
        "- **Resting Heart Rate:** Your average resting heart rate is 71.77 bpm, which is within a healthy range but could be lower. Incorporating more physical activity and finding ways to manage stress, like meditation or spending time in nature, can help.\n",
        "- **Activity Levels:** Your average active zone minutes are 73.0, suggesting you engage in regular physical activity. This is great!\n",
        "- **Stress Management:** Your average stress management score of 5.68 indicates that there is significant room for improvement in managing stress. Consider integrating relaxation techniques such as mindfulness, yoga, or spending time in nature into your daily routine.\n",
        "\n",
        "Overall, maintain these healthy habits and consult with a healthcare professional for any specific concerns or changes in your health status. Remember, everyone's body is different, so it's important to listen to your own body and make adjustments as needed.\n",
        "\"\"\")"
      ]
    }
  ],
  "metadata": {
    "colab": {
      "last_runtime": {
        "build_target": "//learning/grp/tools/ml_python:ml_notebook",
        "kind": "private"
      },
      "provenance": []
    },
    "kernelspec": {
      "display_name": "Python 3",
      "name": "python3"
    },
    "language_info": {
      "name": "python"
    }
  },
  "nbformat": 4,
  "nbformat_minor": 0
}

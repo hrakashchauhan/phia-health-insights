{
  "cells": [
    {
      "cell_type": "markdown",
      "metadata": {
        "id": "dm2aMj3iHG2K"
      },
      "source": [
        "## How about my stride length? Is it looking good?"
      ]
    },
    {
      "cell_type": "markdown",
      "metadata": {
        "id": "vqErkTFoQuz9"
      },
      "source": [
        "To help the user adjust the goal, I conduct stridge length analysis. I will look into average stride length first with `average_stride_length` column at `activities_df`.\n"
      ]
    },
    {
      "cell_type": "code",
      "execution_count": null,
      "metadata": {
        "executionInfo": {
          "elapsed": 56,
          "status": "ok",
          "timestamp": 1722876167058,
          "user": {
            "displayName": "",
            "userId": ""
          },
          "user_tz": 420
        },
        "id": "5AwueTqJRyKa",
        "outputId": "f5439e5b-5a12-4087-988f-57408a294d49"
      },
      "outputs": [
        {
          "data": {
            "text/plain": [
              "128.4995"
            ]
          },
          "execution_count": 2,
          "metadata": {},
          "output_type": "execute_result"
        }
      ],
      "source": [
        "# Filter for running activities\n",
        "running_activities = activities_df[activities_df['activityName'].str.contains('Run', case=False)].copy()\n",
        "# Calculate average stride length for running activities\n",
        "avg_stride_length = running_activities['average_stride_length'].mean()\n",
        "avg_stride_length"
      ]
    },
    {
      "cell_type": "markdown",
      "metadata": {
        "id": "wIjwqPYobUUL"
      },
      "source": [
        "Your average stride length is about 1.28 meters. Your stride length tends to be shorter during the latter half of your runs, particularly after the 5 mile mark. Next, I will need to calcualate cadence and stride length balance, and I can use `average_steps_per_minute` to get it."
      ]
    },
    {
      "cell_type": "code",
      "execution_count": null,
      "metadata": {
        "executionInfo": {
          "elapsed": 56,
          "status": "ok",
          "timestamp": 1722876287014,
          "user": {
            "displayName": "",
            "userId": ""
          },
          "user_tz": 420
        },
        "id": "fyrxpqmgbZDd",
        "outputId": "12ae301d-07de-42de-9b24-42a20161a804"
      },
      "outputs": [
        {
          "data": {
            "text/plain": [
              "63.525"
            ]
          },
          "execution_count": 3,
          "metadata": {},
          "output_type": "execute_result"
        }
      ],
      "source": [
        "average_steps_per_minute = running_activities['average_steps_per_minute'].mean()\n",
        "average_steps_per_minute"
      ]
    },
    {
      "cell_type": "markdown",
      "metadata": {
        "id": "JfECmH_Abw9I"
      },
      "source": [
        "Your current average steps per minute is 63 which is lower than the optimal ones. An optimal running form typically balances cadence (steps per minute) and stride length. Elite runners often have a cadence of around 170-180 steps per minute."
      ]
    },
    {
      "cell_type": "code",
      "execution_count": null,
      "metadata": {
        "id": "PjJuqO9GQ5aX"
      },
      "outputs": [],
      "source": [
        "# Final answer\n",
        "print(\"\"\"\n",
        "Absolutely, stride length is an important factor in running efficiency. Let's take a look at your stride length data and provide some insights on whether you should adjust it:\n",
        "\n",
        "**Stride Length Analysis:**\n",
        "- **Average Stride Length:** Your average stride length is currently about 1.28 meters.\n",
        "- **Consistency:** Your stride length tends to be shorter during the latter half of your runs, particularly after the 5 km mark.\n",
        "\n",
        "**Optimal Stride Length:**\n",
        "- **Cadence and Stride Length Balance:** An optimal running form typically balances cadence (steps per minute) and stride length. Elite runners often have a cadence of around 170-180 steps per minute.\n",
        "- **Efficiency:** Overstriding (taking longer strides) can lead to inefficiency and increase the risk of injury, while understriding can limit speed.\n",
        "\n",
        "**Recommendations for Adjusting Stride Length:**\n",
        "- **Focus on Cadence:**\n",
        "  - **Observation:** Your current average steps per minute is 63, which is lower than optimal.\n",
        "  - **Recommendation:** Aim for a cadence of 170-180 steps per minute. You can practice this by using a metronome or a running app that tracks cadence.\n",
        "\n",
        "- **Drills to Improve Stride Length:**\n",
        "  - **High Knees:** This drill helps improve knee lift and stride length. Perform high knees for 30 seconds, focusing on quick turnover and lifting your knees to hip height.\n",
        "  - **Butt Kicks:** This helps improve the efficiency of your leg cycle. Perform butt kicks for 30 seconds, ensuring your heels touch your glutes.\n",
        "  - **Stride Outs:** Gradually accelerate to 85-90% of your maximum speed for 100 meters, focusing on maintaining a quick cadence and proper form.\n",
        "\n",
        "- **Strength and Flexibility:**\n",
        "  - **Hip Flexors and Glutes:** Strengthening these muscles can help improve your stride length naturally. Incorporate exercises like lunges, squats, and hip bridges into your routine.\n",
        "  - **Flexibility:** Ensure you’re regularly stretching your hamstrings, hip flexors, and calves to maintain flexibility, which supports a longer stride.\n",
        "\n",
        "- **Form Checks:**\n",
        "  - **Posture:** Keep an upright posture with a slight forward lean from the ankles, not the waist. This helps with an efficient stride.\n",
        "  - **Foot Strike:** Aim for a midfoot strike rather than heel striking, which can reduce overstriding and improve overall efficiency.\n",
        "\"\"\")"
      ]
    }
  ],
  "metadata": {
    "colab": {
      "last_runtime": {
        "build_target": "//learning/brain/research/system12/onetwo/colabs:onetwo_colab",
        "kind": "private"
      },
      "provenance": [
        {
          "file_id": "/piper/depot/google3/experimental/chiagent/few_shots/10k_adjust_run_goal.ipynb?workspaceId=xliucs:phia_mbg_demo_shot::citc",
          "timestamp": 1722875608485
        },
        {
          "file_id": "/piper/depot/google3/experimental/chiagent/few_shots/signs_of_jetlag.ipynb?workspaceId=xliucs:phia_mbg_demo::citc",
          "timestamp": 1722830633791
        }
      ]
    },
    "kernelspec": {
      "display_name": "Python 3",
      "name": "python3"
    },
    "language_info": {
      "name": "python"
    }
  },
  "nbformat": 4,
  "nbformat_minor": 0
}

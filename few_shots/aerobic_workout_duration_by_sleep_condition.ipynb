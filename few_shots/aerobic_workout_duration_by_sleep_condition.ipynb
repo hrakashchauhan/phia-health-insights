{
  "cells": [
    {
      "cell_type": "markdown",
      "metadata": {
        "id": "N_jeTa6XAgMb"
      },
      "source": [
        "## What is the duration of my aerobic workouts on days where I slept more than 59 minutes?"
      ]
    },
    {
      "cell_type": "markdown",
      "metadata": {
        "id": "Q92GitfeAgMb"
      },
      "source": [
        "I can use the `during` method for this:"
      ]
    },
    {
      "cell_type": "code",
      "execution_count": 1,
      "metadata": {
        "id": "n9OoGTDMAgMb"
      },
      "outputs": [
        {
          "name": "stdout",
          "output_type": "stream",
          "text": [
            "(24.733)"
          ]
        }
      ],
      "source": [
        "long_sleeps = summary_df[summary_df['sleep_minutes'] \u003e= 59]['datetime']\n",
        "activities_w_long_sleep = activities_df.during(long_sleeps)\n",
        "aerobic_workout_duration = activities_w_long_sleep[activities_w_long_sleep['activityName'] == 'Aerobic Workout']['duration'].sum()\n",
        "aerobic_workout_duration"
      ]
    },
    {
      "metadata": {
        "id": "-gG4mDo-AgMb"
      },
      "cell_type": "markdown",
      "source": [
        "The duration of your aerobic workouts on days where you slept more than 59 minutes is 24.733 minutes. This suggests that on days when you get a bit more sleep, you still manage to engage in aerobic exercise, which is great for maintaining overall health and energy levels."
      ]
    },
    {
      "cell_type": "code",
      "execution_count": 2,
      "metadata": {
        "id": "NwdiKVSSAgMb"
      },
      "outputs": [],
      "source": [
        "# Final answer\n",
        "print(\"The duration of your aerobic workouts on days where you slept more than 59 minutes is 24.733 minutes. This suggests that on days when you get a bit more sleep, you still manage to engage in aerobic exercise, which is great for maintaining overall health and energy levels. To keep your energy levels up and stay fit, consider adding a short burst of exercise on days you sleep in. Even 10-15 minutes of something enjoyable, like a brisk walk or a quick bike ride, can make a significant difference. Remember, everyone is different. Listen to your body and find what works best for you.\")"
      ]
    }
  ],
  "metadata": {
    "kernelspec": {
      "display_name": "Python 3",
      "language": "python",
      "name": "python3"
    },
    "language_info": {
      "name": "python"
    }
  },
  "nbformat": 4,
  "nbformat_minor": 4
}

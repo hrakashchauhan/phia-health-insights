{
  "cells": [
    {
      "cell_type": "markdown",
      "metadata": {
        "id": "dm2aMj3iHG2K"
      },
      "source": [
        "## How's my bedtime consistency?"
      ]
    },
    {
      "cell_type": "markdown",
      "metadata": {
        "id": "vqErkTFoQuz9"
      },
      "source": [
        "To answer this question, I need to analyze the variability in the user's bedtimes over the past 30 days. I can use the standard deviation of bedtimes to measure this variability."
      ]
    },
    {
      "cell_type": "code",
      "execution_count": 1,
      "metadata": {
        "id": "FtHpHLZkVA5g"
      },
      "outputs": [
        {
          "name": "stdout",
          "output_type": "stream",
          "text": [
            "(53.98375207574453)"
          ]
        }
      ],
      "source": [
        "import numpy as np\n",
        "\n",
        "def minutes_to_nearest_midnight(time_obj):\n",
        "    midnight_next_day = time_obj.replace(hour=0, minute=0, second=0) + pd.Timedelta(days=1)\n",
        "    midnight_prev_day = time_obj.replace(hour=0, minute=0, second=0)\n",
        "    diff_next = midnight_next_day - time_obj\n",
        "    diff_prev = time_obj - midnight_prev_day\n",
        "    return min(diff_next, diff_prev).seconds / 60\n",
        "last_30_days_data = summary_df.during(\"last 30 days\")\n",
        "last_30_days_data[\"Bed Time Minutes to Nearest Midnight\"] = last_30_days_data[\"bed_time\"].apply(minutes_to_nearest_midnight)\n",
        "bedtime_std = np.std(last_30_days_data[\"Bed Time Minutes to Nearest Midnight\"])\n",
        "(bedtime_std)\n"
      ]
    },
    {
      "cell_type": "markdown",
      "metadata": {
        "id": "ksKuqAF3nkCe"
      },
      "source": [
        "The standard deviation of bedtime in minutes over the past 30 days is approximately 54 minutes. This indicates a moderate amount of variability in your bedtimes, suggesting that your bedtime has been somewhat inconsistent lately."
      ]
    },
    {
      "cell_type": "code",
      "execution_count": 3,
      "metadata": {
        "id": "PjJuqO9GQ5aX"
      },
      "outputs": [],
      "source": [
        "# Final answer\n",
        "print(\"Your bedtime consistency over the past 30 days shows a standard deviation of approximately 54 minutes. This suggests that your bedtimes can vary by about an hour from day to day. Going to bed within roughly the same hour each night can make a big difference in how you feel. Think of it like this: your average bedtime is like the bullseye on a dartboard, and your actual bedtime each night is like the darts you throw. Lately, your darts have been landing about 54 minutes away from the bullseye. To improve your sleep quality, you could try setting a bedtime alarm to remind you to start getting ready for bed, creating a relaxing bedtime routine (such as taking a warm bath, reading a book, or listening to calming music), and making your bedroom a sleep haven by keeping it cool, dark, and quiet. Remember, everyone's body is different. It might take some experimenting to find what works best for you. But with a little effort, you can get your sleep schedule back on track!\")"
      ]
    }
  ],
  "metadata": {
    "colab": {
      "last_runtime": {
        "build_target": "//learning/grp/tools/ml_python:ml_notebook",
        "kind": "private"
      },
      "provenance": []
    },
    "kernelspec": {
      "display_name": "Python 3",
      "name": "python3"
    },
    "language_info": {
      "name": "python"
    }
  },
  "nbformat": 4,
  "nbformat_minor": 0
}

{
  "cells": [
    {
      "cell_type": "markdown",
      "metadata": {
        "id": "peVB_kZt-HLi"
      },
      "source": [
        "## What was my REM sleep percentage yesterday?"
      ]
    },
    {
      "cell_type": "markdown",
      "metadata": {
        "id": "SsbLzh7j-HLi"
      },
      "source": [
        "I can use the `during` method for this."
      ]
    },
    {
      "cell_type": "code",
      "execution_count": 1,
      "metadata": {
        "id": "_OXWjHOU-HLi"
      },
      "outputs": [
        {
          "name": "stdout",
          "output_type": "stream",
          "text": [
            "(19.06)"
          ]
        }
      ],
      "source": [
        "rem_sleep_percent_yesterday = summary_df.during('yesterday')['rem_sleep_percent'][0]\n",
        "rem_sleep_percent_yesterday"
      ]
    },
    {
      "metadata": {
        "id": "VlOnsPkdATJ5"
      },
      "cell_type": "markdown",
      "source": [
        "You had 19.06% REM sleep yesterday. This is a significant portion of your sleep, considering that REM sleep is crucial for cognitive functions and emotional well-being. Achieving this level of REM sleep suggests that your brain had ample time to process information, form memories, and regulate your mood."
      ]
    },
    {
      "cell_type": "code",
      "execution_count": 2,
      "metadata": {
        "id": "K1q4NXyd-HLi"
      },
      "outputs": [],
      "source": [
        "# Final answer\n",
        "print(\"You had 19.06% REM sleep yesterday. This is a significant portion of your sleep, considering that REM sleep is crucial for cognitive functions and emotional well-being. Achieving this level of REM sleep suggests that your brain had ample time to process information, form memories, and regulate your mood. To maintain or even improve your REM sleep, try sticking to a regular sleep schedule, even on weekends. This helps your body get into a rhythm and promotes deeper, more restorative sleep.\")"
      ]
    }
  ],
  "metadata": {
    "kernelspec": {
      "display_name": "Python 3",
      "language": "python",
      "name": "python3"
    },
    "language_info": {
      "name": "python"
    }
  },
  "nbformat": 4,
  "nbformat_minor": 4
}

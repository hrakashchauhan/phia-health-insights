{
  "cells": [
    {
      "cell_type": "markdown",
      "metadata": {
        "id": "AM3AMeCsp5p8"
      },
      "source": [
        "## Based on my activity data, what are some recommendations or insights on how I can optimize my exercise routine and overall wellness?"
      ]
    },
    {
      "cell_type": "markdown",
      "metadata": {
        "id": "XJntBkP1p5p8"
      },
      "source": [
        "To provide recommendations, I'll first need to analyze the user's activity data. This includes understanding their current exercise routine, sleep patterns, and other wellness indicators. Then, I will search for additional context to provide. Let's start by examining the user's average daily steps, active minutes, and resting heart rate."
      ]
    },
    {
      "cell_type": "code",
      "execution_count": 1,
      "metadata": {
        "id": "iiypFj96p5p8"
      },
      "outputs": [
        {
          "name": "stdout",
          "output_type": "stream",
          "text": [
            "(6992.354838709677, 73.0, 71.7741935483871)"
          ]
        }
      ],
      "source": [
        "average_daily_steps = summary_df['steps'].mean()\n",
        "average_active_minutes = summary_df['active_zone_minutes'].mean()\n",
        "average_resting_heart_rate = summary_df['resting_heart_rate'].mean()\n",
        "(average_daily_steps, average_active_minutes, average_resting_heart_rate)"
      ]
    },
    {
      "cell_type": "markdown",
      "metadata": {
        "id": "KshH2bk0p5p8"
      },
      "source": [
        "The user's average daily steps are below the recommended 10,000 steps per day. Their active minutes are above the recommended 30 minutes per day, which is good. The average resting heart rate is within the normal range for adults. Let's also look at the user's sleep data to understand their sleep patterns."
      ]
    },
    {
      "cell_type": "code",
      "execution_count": 2,
      "metadata": {
        "id": "YiaEFvgPp5p8"
      },
      "outputs": [
        {
          "name": "stdout",
          "output_type": "stream",
          "text": [
            "(377.741935483871, 82.90322580645162, 79.03225806451613)"
          ]
        }
      ],
      "source": [
        "average_sleep_minutes = summary_df['sleep_minutes'].mean()\n",
        "average_deep_sleep_minutes = summary_df['deep_sleep_minutes'].mean()\n",
        "average_rem_sleep_minutes = summary_df['rem_sleep_minutes'].mean()\n",
        "(average_sleep_minutes, average_deep_sleep_minutes, average_rem_sleep_minutes)"
      ]
    },
    {
      "cell_type": "markdown",
      "metadata": {
        "id": "ytKQXnvgp5p8"
      },
      "source": [
        "The user's average sleep duration is approximately 6.3 hours, which is below the recommended 7-9 hours for adults. They are getting an average of 1.4 hours of deep sleep and 1.3 hours of REM sleep per night. Now that I have a better understanding of the user's activity and sleep patterns, I can search for some recommendations."
      ]
    },
    {
      "cell_type": "code",
      "execution_count": 3,
      "metadata": {
        "id": "RCV4TUjhp5p8"
      },
      "outputs": [
        {
          "name": "stdout",
          "output_type": "stream",
          "text": [
            "Stick to a sleep schedule. Set aside no more than eight hours for sleep. ...\n",
            "Pay attention to what you eat and drink. Don't go to bed hungry or stuffed. ...\n",
            "Create a restful environment. ...\n",
            "Limit daytime naps. ...\n",
            "Include physical activity in your daily routine. ...\n",
            "Manage worries."
          ]
        }
      ],
      "source": [
        "# search('How can I increase my sleep duration?')"
      ]
    },
    {
      "cell_type": "markdown",
      "metadata": {
        "id": "y2by5genp5p8"
      },
      "source": [
        "Based on your activity and sleep data, here are some recommendations to optimize your exercise routine and overall wellness: One thing that stands out is that your average sleep is a little low. Most adults need 7-9 hours of sleep a night, and I see you're getting about 6.3 hours. Some ways to get more sleep include limiting daytime naps and incorporating physical activity as part of your routine. Additionally, your daily steps are below the recommended 10,000 steps per day, but your active minutes are above the recommended 30 minutes per day, which is great! Your resting heart rate is reasonable at 71 beats per minute. To further optimize your routine, consider mixing up your workouts and listening to your body's signals to prevent burnout and injuries."
      ]
    },
    {
      "cell_type": "code",
      "execution_count": 4,
      "metadata": {
        "id": "F4LN3_Szp5p8"
      },
      "outputs": [],
      "source": [
        "# Final answer\n",
        "print(\"\"\"\n",
        "Based on your activity and sleep data, here are some recommendations to optimize your exercise routine and overall wellness:\n",
        "\n",
        "One thing that stands out is that your average sleep is a little low. Most adults need 7-9 hours of sleep a night, and I see you're getting about 6.3 hours. Some ways to get more sleep include limiting daytime naps and incorporating physical activity as part of your routine.\n",
        "\n",
        "Additionally, your daily steps are below the recommended 10,000 steps per day, but your active minutes are above the recommended 30 minutes per day, which is great! Your resting heart rate is reasonable at 71 beats per minute.\n",
        "\n",
        "Here are a couple of things you could try if you want to explore further:\n",
        "- **Mix It Up:** If you want to keep things interesting and challenge your body in new ways, try adding some variety to your workouts. You could explore different types of exercise like swimming, dancing, or hiking.\n",
        "- **Listen to Your Body:** Even though you're doing great, remember to rest when you need it. Pay attention to your body's signals and take breaks or lighter workout days when you feel tired or sore. This will help you avoid burnout and injuries.\n",
        "\n",
        "If you tell me more about your specific fitness goals, I can give you specific advice.\n",
        "\"\"\")"
      ]
    }
  ],
  "metadata": {
    "kernelspec": {
      "display_name": "Python 3",
      "language": "python",
      "name": "python3"
    },
    "language_info": {
      "codemirror_mode": {
        "name": "ipython",
        "version": 3
      },
      "file_extension": ".py",
      "mimetype": "text/x-python",
      "name": "python",
      "nbconvert_exporter": "python",
      "pygments_lexer": "ipython3",
      "version": "3.8.8"
    }
  },
  "nbformat": 4,
  "nbformat_minor": 0
}

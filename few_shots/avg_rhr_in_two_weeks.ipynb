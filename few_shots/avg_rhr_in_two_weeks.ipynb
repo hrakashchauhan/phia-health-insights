{
  "cells": [
    {
      "cell_type": "markdown",
      "metadata": {
        "id": "ly-JDNpZadgk"
      },
      "source": [
        "## What was my average resting heart rate in the past two weeks?"
      ]
    },
    {
      "cell_type": "markdown",
      "metadata": {
        "id": "ew850bXGadgk"
      },
      "source": [
        "I can use the `during` method for this:"
      ]
    },
    {
      "cell_type": "code",
      "execution_count": 1,
      "metadata": {
        "id": "Deo_avsJadgk"
      },
      "outputs": [
        {
          "name": "stdout",
          "output_type": "stream",
          "text": [
            "65.21"
          ]
        }
      ],
      "source": [
        "summary_df.during('last 14 days')['resting_heart_rate'].mean()"
      ]
    },
    {
      "metadata": {
        "id": "raGIMy02adgk"
      },
      "cell_type": "markdown",
      "source": [
        "Your average resting heart rate in the past two weeks was 65.21 bpm. This is within the normal range for adults and suggests that your cardiovascular health is in good shape."
      ]
    },
    {
      "cell_type": "code",
      "execution_count": 2,
      "metadata": {
        "id": "3VJfEEn9adgk"
      },
      "outputs": [],
      "source": [
        "# Final answer\n",
        "print(\"Your average resting heart rate in the past two weeks was 65.21 bpm. That's great! A normal resting heart rate for adults ranges from 60 to 100 beats per minute, and keeping your heart rate in a healthy range is important for your overall health. To maintain or improve your heart health, consider regular exercise, aiming for at least 30 minutes of moderate-intensity exercise most days of the week. Additionally, eating a healthy diet with plenty of fruits, vegetables, whole grains, and lean protein can be beneficial. Managing stress through healthy coping mechanisms such as yoga, meditation, or spending time in nature is also important. Keep up the great work!\")"
      ]
    }
  ],
  "metadata": {
    "kernelspec": {
      "display_name": "Python 3",
      "language": "python",
      "name": "python3"
    },
    "language_info": {
      "name": "python"
    }
  },
  "nbformat": 4,
  "nbformat_minor": 4
}

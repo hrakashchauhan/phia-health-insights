{
  "cells": [
    {
      "cell_type": "markdown",
      "metadata": {
        "id": "-VDKjp_5yQVz"
      },
      "source": [
        "## What are my sleep patterns?"
      ]
    },
    {
      "cell_type": "markdown",
      "metadata": {
        "id": "bOb0F1O4yQVz"
      },
      "source": [
        "To analyze sleep patterns, I'll look at the variability in bedtimes and wake-up times, as well as the average sleep duration. I'll convert the times to positions around a circle to account for the fact that bedtimes near midnight have different hours but are still close to one another."
      ]
    },
    {
      "cell_type": "code",
      "execution_count": 1,
      "metadata": {
        "id": "ub6OTBzVyQVz"
      },
      "outputs": [
        {
          "name": "stdout",
          "output_type": "stream",
          "text": [
            "(49.38603273121055, 37.613041553444525, 377.741935483871)"
          ]
        }
      ],
      "source": [
        "# Function to calculate minutes to the nearest midnight\n",
        "def minutes_to_nearest_midnight(time_obj):\n",
        "    midnight_next_day = time_obj.replace(hour=0, minute=0, second=0) + pd.Timedelta(days=1)\n",
        "    midnight_prev_day = time_obj.replace(hour=0, minute=0, second=0)\n",
        "    diff_next = midnight_next_day - time_obj\n",
        "    diff_prev = time_obj - midnight_prev_day\n",
        "    # Return the smaller difference in minutes\n",
        "    return min(diff_next, diff_prev).seconds / 60\n",
        "summary_df['Bed Time Minutes to Nearest Midnight'] = summary_df['bed_time'].apply(minutes_to_nearest_midnight)\n",
        "summary_df['Wake Time Minutes to Nearest Midnight'] = summary_df['wake_up_time'].apply(minutes_to_nearest_midnight)\n",
        "# Calculate the standard deviation of bed time, which gives us the variability\n",
        "bed_time_std = np.std(summary_df['Bed Time Minutes to Nearest Midnight'])\n",
        "wake_time_std = np.std(summary_df['Wake Time Minutes to Nearest Midnight'])\n",
        "# Calculate the average sleep duration\n",
        "avg_sleep_duration = summary_df['sleep_minutes'].mean()\n",
        "(bed_time_std, wake_time_std, avg_sleep_duration)"
      ]
    },
    {
      "cell_type": "markdown",
      "metadata": {
        "id": "ilt1GTyJyQVz"
      },
      "source": [
        "The standard deviation of bedtimes and wake-up times gives us an idea of the variability in your sleep schedule. The average sleep duration tells us how much sleep you're getting on average."
      ]
    },
    {
      "cell_type": "markdown",
      "metadata": {
        "id": "UfOzYmKAyQVz"
      },
      "source": [
        "Your sleep patterns show a variability in bedtimes and wake-up times, with a standard deviation of approximately 49.39 minutes and 37.61 minutes, respectively. This suggests that your bedtimes and wake-up times can vary from day to day. Your average sleep duration is approximately 378 minutes (about 6.3 hours), which is below the recommended 7-9 hours for adults. Additionally, your sleep score and sleep duration are lower than average, even though you are getting a good amount of deep and REM sleep. It might be beneficial to aim for a more consistent sleep schedule and try to increase your sleep duration for better rest and recovery."
      ]
    },
    {
      "cell_type": "code",
      "execution_count": 2,
      "metadata": {
        "id": "peXlF1jsyQVz"
      },
      "outputs": [],
      "source": [
        "# Final answer\n",
        "print(\"\"\"\n",
        "Your sleep patterns show variability in bedtimes and wake-up times, with a standard deviation of approximately 49.39 minutes and 37.61 minutes, respectively. This suggests that your bedtimes and wake-up times can vary from day to day. Your average sleep duration is approximately 378 minutes (about 6.3 hours), which is below the recommended 7-9 hours for adults.\n",
        "\n",
        "Let's break down your sleep patterns:\n",
        "\n",
        "- **Sleep Score and Duration:** Your average sleep score is 65, and you're sleeping for about 6 hours and 8 minutes each night, which is less than average for people your age and gender. Getting enough sleep is crucial for your physical and mental health.\n",
        "- **Sleep Stages:** You're doing great with deep sleep and REM sleep, both important for memory, learning, and mood. Your light sleep is also within a normal range.\n",
        "- **Bedtime Variability:** Your bedtime varies by about 1 hour and 28 minutes, which is considered normal.\n",
        "\n",
        "To improve your sleep quality, try going to bed and waking up around the same time each day, even on weekends. If you're feeling tired during the day, consider increasing your sleep duration to aim for 7-9 hours of sleep per night. Creating a relaxing bedtime routine, such as taking a warm bath, reading a book, or listening to calming music, can also help. Make sure your bedroom is dark, quiet, and cool, and avoid caffeine and alcohol before bed.\n",
        "\n",
        "Remember, everyone's sleep needs are different. Listen to your body and find what works best for you!\n",
        "\"\"\")"
      ]
    }
  ],
  "metadata": {
    "kernelspec": {
      "display_name": "Python 3",
      "language": "python",
      "name": "python3"
    },
    "language_info": {
      "codemirror_mode": {
        "name": "ipython",
        "version": 3
      },
      "file_extension": ".py",
      "mimetype": "text/x-python",
      "name": "python",
      "nbconvert_exporter": "python",
      "pygments_lexer": "ipython3",
      "version": "3.8.8"
    }
  },
  "nbformat": 4,
  "nbformat_minor": 0
}

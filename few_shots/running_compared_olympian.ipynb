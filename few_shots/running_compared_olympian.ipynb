{
  "cells": [
    {
      "cell_type": "markdown",
      "metadata": {
        "id": "dm2aMj3iHG2K"
      },
      "source": [
        "## How does my running compare to the olympic athletes?"
      ]
    },
    {
      "cell_type": "markdown",
      "metadata": {
        "id": "vqErkTFoQuz9"
      },
      "source": [
        "The user is asking to compare their running to Olympic athletes. To answer this, I can calculate the user's average running speed and then compare it to the average speed of Olympic runners. I'll use the `activities_df` DataFrame to calculate the user's average running speed and then use the search tool to find the average speed of Olympic runners."
      ]
    },
    {
      "cell_type": "code",
      "execution_count": 1,
      "metadata": {
        "id": "FtHpHLZkVA5g"
      },
      "outputs": [
        {
          "name": "stdout",
          "output_type": "stream",
          "text": [
            "(3.6376666666666666)"
          ]
        }
      ],
      "source": [
        "avg_running_speed = activities_df[activities_df['activityName'] == 'Run']['speed'].mean()\n",
        "(avg_running_speed)"
      ]
    },
    {
      "cell_type": "markdown",
      "metadata": {
        "id": "ksKuqAF3nkCe"
      },
      "source": [
        "The user's average running speed is 3.64 mph. Now, I'll use the `search` tool to find the average speed of Olympic runners."
      ]
    },
    {
      "cell_type": "code",
      "execution_count": 2,
      "metadata": {
        "id": "PjJuqO9GQ5aX"
      },
      "outputs": [
        {
          "name": "stdout",
          "output_type": "stream",
          "text": [
            "\"Average speed maintained while setting Olympic Records in athletic events from 1980 to 2021 (in kilometers per hour) · 35.28 · 33.93 · 33.74 · 29.84 · 29.51 · 27.98 ...\""
          ]
        }
      ],
      "source": [
        "# search('average speed of olympic runners')"
      ]
    },
    {
      "cell_type": "markdown",
      "metadata": {
        "id": "ksKuqAF3nkCe"
      },
      "source": [
        "The average speed of Olympic runners is provided in kilometers per hour. I'll need to convert these speeds to miles per hour for a proper comparison."
      ]
    },
    {
      "metadata": {
        "id": "qo3r7qL9CiZV"
      },
      "cell_type": "code",
      "source": [
        "avg_olympic_speed_mph = [speed * 0.621371 for speed in [35.28, 33.93, 33.74, 29.84, 29.51, 27.98]]\n",
        "(avg_olympic_speed_mph)"
      ],
      "outputs": [
        {
          "name": "stdout",
          "output_type": "stream",
          "text": [
            "[21.92196888, 21.08311803, 20.96505754, 18.54171064, 18.33665821, 17.38596058]"
          ]
        }
      ],
      "execution_count": null
    },
    {
      "metadata": {
        "id": "ah764iDvDBqT"
      },
      "cell_type": "markdown",
      "source": [
        "The average speeds of Olympic runners, when converted to miles per hour, range from about 17.39 to 21.92 mph. This is significantly faster than the user's average speed of 3.64 mph. Comparing your running speed to that of Olympic athletes can provide a benchmark, but it's important to consider the differences in training, genetics, and experience."
      ]
    },
    {
      "cell_type": "code",
      "execution_count": 3,
      "metadata": {
        "id": "PjJuqO9GQ5aX"
      },
      "outputs": [],
      "source": [
        "# Final answer\n",
        "print(\"\"\"\n",
        "The average speed of an Olympic runner is significantly faster than your average speed of 3.64 mph. Olympic runners can maintain speeds of over 17 mph for various distances, with some achieving speeds over 20 mph. While it’s inspiring to look up to elite athletes, it’s important to focus on your personal fitness journey and progress at your own pace. Here are some tips to help you improve your running:\n",
        "\n",
        "- **Set Realistic Goals:** Start with achievable goals and gradually increase your distance and speed.\n",
        "- **Consistency is Key:** Regular running and training will help you build endurance and speed over time.\n",
        "- **Strength Training:** Incorporate strength training exercises to improve your overall fitness and running efficiency.\n",
        "- **Proper Rest and Recovery:** Allow your body time to recover between runs to prevent injury and improve performance.\n",
        "- **Nutrition and Hydration:** Maintain a balanced diet and stay hydrated to support your running efforts.\n",
        "\n",
        "Remember, every runner’s journey is unique, and improvement comes with time and dedication. Celebrate your progress and continue working towards your personal best. If you have specific goals or need personalized advice, consider consulting a running coach or fitness professional.\n",
        "\"\"\")"
      ]
    }
  ],
  "metadata": {
    "colab": {
      "last_runtime": {
        "build_target": "//learning/grp/tools/ml_python:ml_notebook",
        "kind": "private"
      },
      "provenance": []
    },
    "kernelspec": {
      "display_name": "Python 3",
      "name": "python3"
    },
    "language_info": {
      "name": "python"
    }
  },
  "nbformat": 4,
  "nbformat_minor": 0
}

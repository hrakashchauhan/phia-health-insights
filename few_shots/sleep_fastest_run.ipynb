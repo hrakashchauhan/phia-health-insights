{
  "cells": [
    {
      "cell_type": "markdown",
      "metadata": {
        "id": "peVB_kZt-HLi"
      },
      "source": [
        "## How did I sleep the night before my fastest run?"
      ]
    },
    {
      "cell_type": "markdown",
      "metadata": {
        "id": "SsbLzh7j-HLi"
      },
      "source": [
        "To answer this question, I need to identify the user's fastest run from the `activities_df` DataFrame. Then, I need to find the sleep data from the `summary_df` DataFrame for the night before the fastest run"
      ]
    },
    {
      "cell_type": "code",
      "execution_count": 5,
      "metadata": {
        "executionInfo": {
          "elapsed": 53,
          "status": "ok",
          "timestamp": 1727303053050,
          "user": {
            "displayName": "",
            "userId": ""
          },
          "user_tz": 420
        },
        "id": "_OXWjHOU-HLi",
        "outputId": "2e271eea-dc27-4fb0-f08b-e422706a7c40"
      },
      "outputs": [
        {
          "data": {
            "text/plain": [
              "(datetime.date(2024, 6, 15),\n",
              " np.float64(584.0),\n",
              " np.float64(60.0),\n",
              " np.float64(81.0))"
            ]
          },
          "execution_count": 5,
          "metadata": {},
          "output_type": "execute_result"
        }
      ],
      "source": [
        "fastest_run_date = activities_df[activities_df['activityName'] == 'Run']['speed'].idxmax()\n",
        "\n",
        "# Get the sleep data for the night before the fastest run\n",
        "sleep_before_fastest_run = summary_df.loc[fastest_run_date - pd.Timedelta(days=1)]\n",
        "\n",
        "# Extract relevant sleep metrics\n",
        "total_sleep_minutes = sleep_before_fastest_run['sleep_minutes']\n",
        "deep_sleep_minutes = sleep_before_fastest_run['deep_sleep_minutes']\n",
        "rem_sleep_minutes = sleep_before_fastest_run['rem_sleep_minutes']\n",
        "\n",
        "# Print the results\n",
        "(fastest_run_date.date(), total_sleep_minutes, deep_sleep_minutes, rem_sleep_minutes)"
      ]
    },
    {
      "cell_type": "markdown",
      "metadata": {
        "id": "VlOnsPkdATJ5"
      },
      "source": [
        "Your fastest run took place on June 15, 2024, and while your sleep start and end times for the night before aren't available, you still managed to get a solid 9.7 hours of total sleep. This amount of rest, along with 1 hour of deep sleep and over 1.3 hours of REM sleep, likely contributed to your physical and mental recovery, supporting your strong performance the next day. Deep sleep helps with muscle repair and energy restoration, while REM sleep plays a role in cognitive functions and mood regulation. Although the overall sleep score is unavailable due to missing data, the amount and quality of sleep you received suggest that you were well-prepared for your run. To further optimize your performance, tracking complete sleep data would provide more insights into the connection between your rest and activity levels."
      ]
    },
    {
      "cell_type": "code",
      "execution_count": null,
      "metadata": {
        "id": "K1q4NXyd-HLi"
      },
      "outputs": [],
      "source": [
        "# Final answer\n",
        "print(\"Your fastest run took place on June 15, 2024, and while your sleep start and end times for the night before aren't available, you still managed to get a solid 9.7 hours of total sleep. This amount of rest, along with 1 hour of deep sleep and over 1.3 hours of REM sleep, likely contributed to your physical and mental recovery, supporting your strong performance the next day. Deep sleep helps with muscle repair and energy restoration, while REM sleep plays a role in cognitive functions and mood regulation. Although the overall sleep score is unavailable due to missing data, the amount and quality of sleep you received suggest that you were well-prepared for your run. To further optimize your performance, tracking complete sleep data would provide more insights into the connection between your rest and activity levels.\")"
      ]
    }
  ],
  "metadata": {
    "colab": {
      "last_runtime": {
        "build_target": "//learning/grp/tools/ml_python:ml_notebook",
        "kind": "private"
      },
      "provenance": []
    },
    "kernelspec": {
      "display_name": "Python 3",
      "language": "python",
      "name": "python3"
    },
    "language_info": {
      "name": "python"
    }
  },
  "nbformat": 4,
  "nbformat_minor": 0
}

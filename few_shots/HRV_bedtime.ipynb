{
  "cells": [
    {
      "cell_type": "markdown",
      "metadata": {
        "id": "8cvg6BXVpBaF"
      },
      "source": [
        "## How is my HRV affected by bed time last month?"
      ]
    },
    {
      "cell_type": "markdown",
      "metadata": {
        "id": "rHP1mGY7pBaF"
      },
      "source": [
        "To analyze the correlation between bedtime and breathing rate, I need to convert the bedtime to minutes from the nearest midnight, as this will correctly represent the time difference. Then, I can calculate the correlation between these two variables."
      ]
    },
    {
      "cell_type": "code",
      "execution_count": 1,
      "metadata": {
        "id": "hTIb5yKSpBaF"
      },
      "outputs": [
        {
          "name": "stdout",
          "output_type": "stream",
          "text": [
            "-0.0850790322243875"
          ]
        }
      ],
      "source": [
        "# Function to calculate minutes to the nearest midnight\n",
        "def minutes_to_nearest_midnight(time_obj):\n",
        "    midnight_next_day = time_obj.replace(hour=0, minute=0, second=0) + pd.Timedelta(days=1)\n",
        "    midnight_prev_day = time_obj.replace(hour=0, minute=0, second=0)\n",
        "    diff_next = midnight_next_day - time_obj\n",
        "    diff_prev = time_obj - midnight_prev_day\n",
        "    # Return the smaller difference in minutes\n",
        "    return min(diff_next, diff_prev).seconds / 60\n",
        "last_month = (pd.Timestamp.now() - pd.DateOffset(months=1))\n",
        "summary_df = summary_df[summary_df.index \u003e last_month]\n",
        "summary_df[\"Bed Time Minutes to Nearest Midnight\"] = summary_df[\"bed_time\"].apply(minutes_to_nearest_midnight)\n",
        "# Calculate the correlation between bed time and HRV\n",
        "corr_bedtime_hrv = summary_df[\"Bed Time Minutes to Nearest Midnight\"].corr(summary_df[\"heart_rate_variability\"])\n",
        "corr_bedtime_hrv"
      ]
    },
    {
      "cell_type": "markdown",
      "metadata": {
        "id": "9_faOgeJpBaF"
      },
      "source": [
        "The correlation coefficient is a measure of the strength and direction of the linear relationship between two variables. In this case, the correlation between bedtime and HRV is -0.085, which is close to zero. This suggests that there is a very weak negative correlation between these two variables. Although the overall correlation is weak, it's worth noting that bedtime might still influence HRV in subtle ways, suggesting the possibility of a slight negative impact when bedtime is later."
      ]
    },
    {
      "cell_type": "code",
      "execution_count": 2,
      "metadata": {
        "id": "j9wRBLFrpBaF"
      },
      "outputs": [],
      "source": [
        "# Final answer\n",
        "print(\"The correlation between your bedtime and HRV last month is approximately -0.085. This indicates a very weak negative correlation, suggesting that there is no significant relationship between the time you go to bed and your HRV overall. However, bedtime might still influence HRV in subtle ways, indicating that later bedtimes could have a slight negative impact on your HRV. Think of HRV as a sign of how well your body recovers from stress; higher HRV typically indicates better adaptability and readiness. If you aim to improve your HRV, consider going to bed a bit earlier, even if it's just by 15 minutes. After a week or two, you might notice improvements in energy levels or stress management. Remember, individual responses can vary. It's important to monitor how you feel and adjust your bedtime as needed to find what works best for you.\")"
      ]
    }
  ],
  "metadata": {
    "kernelspec": {
      "display_name": "Python 3",
      "language": "python",
      "name": "python3"
    },
    "language_info": {
      "codemirror_mode": {
        "name": "ipython",
        "version": 3
      },
      "file_extension": ".py",
      "mimetype": "text/x-python",
      "name": "python",
      "nbconvert_exporter": "python",
      "pygments_lexer": "ipython3",
      "version": "3.8.8"
    }
  },
  "nbformat": 4,
  "nbformat_minor": 0
}

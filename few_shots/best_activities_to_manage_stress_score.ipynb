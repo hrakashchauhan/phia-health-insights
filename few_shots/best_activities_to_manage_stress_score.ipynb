{
  "cells": [
    {
      "cell_type": "markdown",
      "metadata": {
        "id": "SnjYnWBuoDFd"
      },
      "source": [
        "## What activities best help me manage my stress score?"
      ]
    },
    {
      "cell_type": "markdown",
      "metadata": {
        "id": "t0CmXcDVoDFd"
      },
      "source": [
        "To answer this question, I need to join the `summary_df` and `activities_df` DataFrames. Then, I'll calculate the difference in stress management score before and after each activity. The activity with the greatest average decrease in stress management score will be considered the most effective for managing stress."
      ]
    },
    {
      "cell_type": "code",
      "execution_count": 1,
      "metadata": {
        "id": "8jJln-v_oDFd"
      },
      "outputs": [
        {
          "name": "stdout",
          "output_type": "stream",
          "text": [
            "activityName\n",
            "Aerobic Workout    10.452190\n",
            "Bike                0.888149\n",
            "Outdoor Bike       -5.810593\n",
            "Name: stress_diff, dtype: float64"
          ]
        }
      ],
      "source": [
        "activities_df.index = activities_df.index.date\n",
        "summary_df['date'] = summary_df.index.date\n",
        "# Shifting stress management score data forward by one day\n",
        "summary_df['next_days_stress_management_score'] = summary_df['stress_management_score'].shift(-1)\n",
        "# Joining the dataframes\n",
        "joined_df = summary_df.join(activities_df, how='right', lsuffix='_activity')\n",
        "# Calculating the difference in stress management score before and after each activity\n",
        "joined_df['stress_diff'] = joined_df['next_days_stress_management_score'] - joined_df['stress_management_score']\n",
        "# Grouping by activity and calculating the average stress difference\n",
        "stress_diff_by_activity = joined_df.groupby('activityName')['stress_diff'].mean()\n",
        "stress_diff_by_activity"
      ]
    },
    {
      "cell_type": "markdown",
      "metadata": {
        "id": "B9RY8qgToDFd"
      },
      "source": [
        "It looks like outdoor biking has a significant positive impact on your stress management score. After you bike outside, your stress management score typically goes down, indicating reduced stress levels."
      ]
    },
    {
      "cell_type": "code",
      "execution_count": 2,
      "metadata": {
        "id": "0oyyiObCoDFd"
      },
      "outputs": [],
      "source": [
        "# Final answer\n",
        "print(\"Outdoor biking is associated with the largest decrease in your stress management score. When you bike outside, your score decreases by 5.8 points on average. This suggests that engaging in outdoor biking is particularly effective at helping you manage and reduce stress. To further benefit from this activity, try to incorporate regular outdoor biking sessions into your routine. Not only will it help lower your stress levels, but it can also contribute to your overall physical and mental well-being. Keep exploring different activities to find what works best for you in managing stress.\")"
      ]
    }
  ],
  "metadata": {
    "kernelspec": {
      "display_name": "Python 3",
      "language": "python",
      "name": "python3"
    },
    "language_info": {
      "name": "python"
    }
  },
  "nbformat": 4,
  "nbformat_minor": 4
}

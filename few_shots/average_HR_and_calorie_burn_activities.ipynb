{
  "cells": [
    {
      "cell_type": "markdown",
      "metadata": {
        "id": "uzlIMUFCpOpd"
      },
      "source": [
        "## What are my average heart rate and calorie burn for different activities?"
      ]
    },
    {
      "cell_type": "markdown",
      "metadata": {
        "id": "7g13ha5ipOpd"
      },
      "source": [
        "To answer this question, I need to calculate the average heart rate and calorie burn for each activity type."
      ]
    },
    {
      "cell_type": "code",
      "execution_count": 1,
      "metadata": {
        "id": "XK0ozDvSpOpd"
      },
      "outputs": [
        {
          "name": "stdout",
          "output_type": "stream",
          "text": [
            "activityName\n",
            "Bike              119.857143\n",
            "Hike              111.250000\n",
            "Run               104.000000\n",
            "Weights           114.500000\n",
            "Aerobic Workout   133.666667\n",
            "Name: averageHeartRate, dtype: float64\n",
            "activityName\n",
            "Bike              125.857143\n",
            "Hike              165.500000\n",
            "Run                79.375000\n",
            "Weights           110.166667\n",
            "Aerobic Workout    39.000000\n",
            "Name: calories, dtype: float64"
          ]
        }
      ],
      "source": [
        "average_heart_rate = activities_df.groupby('activityName')['averageHeartRate'].mean()\n",
        "calories = activities_df.groupby('activityName')['calories'].mean()\n",
        "print(average_heart_rate)\n",
        "print(calories)"
      ]
    },
    {
      "cell_type": "markdown",
      "metadata": {
        "id": "mx1mxpJxpOpd"
      },
      "source": [
        "I can now display the average heart rate and calorie burn for each activity. This information can help you understand how different types of exercises impact your cardiovascular system and energy expenditure, allowing you to tailor your workouts to meet your fitness goals."
      ]
    },
    {
      "cell_type": "code",
      "execution_count": 2,
      "metadata": {
        "id": "hqQnad7QpOpd"
      },
      "outputs": [],
      "source": [
        "# Final answer\n",
        "print(\"\"\"\n",
        "Here are your average heart rate and calorie burn for different activities:\n",
        "\n",
        "**Average Heart Rate (bpm):**\n",
        "\n",
        "- Bike: 119.857\n",
        "- Hike: 111.250\n",
        "- Run: 104.000\n",
        "- Weights: 114.500\n",
        "- Aerobic Workout: 133.667\n",
        "\n",
        "**Calorie Burn (cal):**\n",
        "\n",
        "- Bike: 125.857\n",
        "- Hike: 165.500\n",
        "- Run: 79.375\n",
        "- Weights: 110.167\n",
        "- Aerobic Workout: 39.000\n",
        "\n",
        "Understanding these averages can help you see how different activities affect your heart rate and calorie burn, enabling you to adjust your exercise routine to better align with your fitness objectives. For example, if you're looking to increase your cardiovascular endurance, you might focus on activities like aerobic workouts that have higher average heart rates. If calorie burn is your goal, activities like hiking and biking could be more effective.\n",
        "\"\"\")"
      ]
    }
  ],
  "metadata": {
    "kernelspec": {
      "display_name": "Python 3",
      "language": "python",
      "name": "python3"
    },
    "language_info": {
      "name": "python"
    }
  },
  "nbformat": 4,
  "nbformat_minor": 4
}

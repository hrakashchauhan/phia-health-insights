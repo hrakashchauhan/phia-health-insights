{
  "cells": [
    {
      "cell_type": "markdown",
      "metadata": {
        "id": "3EOMZ_NWrOt5"
      },
      "source": [
        "## Do I sleep better on days that I exercise more?"
      ]
    },
    {
      "cell_type": "markdown",
      "metadata": {
        "id": "jNYcYHOUrOt5"
      },
      "source": [
        "Given that the sleep data in summary_df corresponds to the prior night's sleep, I need to shift this data forward by one day. After that, I'll join the modified summary_df with activities_df based on the date. This will allow me to analyze the relationship between daily exercise intensity (active minutes or calories burned) and the following night's sleep quality."
      ]
    },
    {
      "cell_type": "code",
      "execution_count": 1,
      "metadata": {
        "id": "5e4zRhqJrOt5"
      },
      "outputs": [
        {
          "name": "stdout",
          "output_type": "stream",
          "text": [
            "(0.52, 0.48)\n"
          ]
        }
      ],
      "source": [
        "activities_df.index = activities_df.index.date\n",
        "summary_df['date'] = summary_df.index.date\n",
        "# Shifting sleep data forward by one day\n",
        "summary_df_shifted = summary_df.shift(-1)\n",
        "# Joining the dataframes\n",
        "joined_df = summary_df_shifted.join(activities_df, how='right', lsuffix='_activity')\n",
        "# Correlation between active minutes and deep sleep minutes\n",
        "corr_active_minutes_deep_sleep = joined_df['active_zone_minutes'].corr(joined_df['deep_sleep_minutes'])\n",
        "# Correlation between calories burned and deep sleep minutes\n",
        "corr_calories_burned_deep_sleep = joined_df['calories'].corr(joined_df['deep_sleep_minutes'])\n",
        "(corr_active_minutes_deep_sleep, corr_calories_burned_deep_sleep)"
      ]
    },
    {
      "cell_type": "markdown",
      "metadata": {
        "id": "8nqZpafPrOt6"
      },
      "source": [
        "By analyzing the correlation coefficients after correctly aligning the exercise and sleep data, we can understand if there's a significant relationship between daily exercise intensity and sleep quality the following night. It seems that higher exercise intensity might be linked to better sleep quality, particularly in terms of deep sleep."
      ]
    },
    {
      "cell_type": "code",
      "execution_count": null,
      "metadata": {
        "id": "GtsBEGg9rOt6"
      },
      "outputs": [],
      "source": [
        "# Final answer\n",
        "print(\"The analysis, with correlations of 0.52 for active minutes and 0.48 for calories burned with deep sleep minutes, suggests a moderate relationship. This indicates that higher exercise intensity during the day may lead to better deep sleep quality the following night. However, it's important to consider that correlation doesn't imply causation, and other factors may also influence your sleep quality. To maximize the benefits of exercise on your sleep, try incorporating wind-down time before bed by dimming the lights and relaxing, avoid exercising too close to bedtime, and listen to your body to adjust your routine as needed. If you continue to experience sleep issues, consulting with a doctor or sleep specialist can provide further guidance.\")"
      ]
    }
  ],
  "metadata": {
    "kernelspec": {
      "display_name": "Python 3",
      "language": "python",
      "name": "python3"
    },
    "language_info": {
      "name": "python"
    }
  },
  "nbformat": 4,
  "nbformat_minor": 4
}

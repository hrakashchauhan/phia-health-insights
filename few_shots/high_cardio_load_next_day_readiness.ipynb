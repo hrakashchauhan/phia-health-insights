{
  "cells": [
    {
      "cell_type": "markdown",
      "metadata": {
        "id": "dm2aMj3iHG2K"
      },
      "source": [
        "## Does a high cardio load impact my readiness score for the following day?"
      ]
    },
    {
      "cell_type": "markdown",
      "metadata": {
        "id": "vqErkTFoQuz9"
      },
      "source": [
        "To answer this question, I need to analyze the relationship between `cardio_load_total` on a given day and the `readiness_score` for the following day. I can achieve this by shifting the `readiness_score` column in the `summary_df` DataFrame by one day and then calculating the correlation between these two columns."
      ]
    },
    {
      "cell_type": "code",
      "execution_count": 1,
      "metadata": {
        "id": "FtHpHLZkVA5g"
      },
      "outputs": [
        {
          "name": "stdout",
          "output_type": "stream",
          "text": [
            "(-0.17122711608364932)"
          ]
        }
      ],
      "source": [
        "summary_df['next_day_readiness_score'] = summary_df['readiness_score'].shift(-1)\n",
        "correlation = summary_df['cardio_load_total'].corr(summary_df['next_day_readiness_score'])\n",
        "(correlation)"
      ]
    },
    {
      "metadata": {
        "id": "ah764iDvDBqT"
      },
      "cell_type": "markdown",
      "source": [
        "The correlation coefficient between today's cardio load and tomorrow's readiness score is -0.17, indicating a weak negative correlation. This suggests that a higher cardio load today might be associated with a slightly lower readiness score tomorrow, but the relationship is not very strong. Other factors, such as sleep quality, heart rate variability, and overall recovery, likely play a more significant role in determining your readiness score."
      ]
    },
    {
      "cell_type": "code",
      "execution_count": 3,
      "metadata": {
        "id": "PjJuqO9GQ5aX"
      },
      "outputs": [],
      "source": [
        "# Final answer\n",
        "print(\"\"\"\n",
        "There is a weak negative correlation (-0.17) between your cardio load today and your readiness score tomorrow. This suggests that a higher cardio load today might be associated with a slightly lower readiness score tomorrow, but the relationship is not very strong. It is important to consider other factors that significantly influence your readiness score, such as:\n",
        "\n",
        "- **Sleep Quality:** Ensuring you get enough restorative sleep each night is crucial for recovery and overall readiness.\n",
        "- **Heart Rate Variability (HRV):** Higher HRV is often associated with better recovery and readiness. Practices like mindfulness and stress management can help improve HRV.\n",
        "- **Overall Recovery:** Adequate rest days and proper nutrition play a vital role in allowing your body to recover from intense workouts.\n",
        "\n",
        "To optimize your readiness score, focus on balancing your cardio load with adequate recovery strategies. Listen to your body, and make adjustments to your workout intensity and recovery practices as needed. If you find that your readiness score consistently drops after high cardio load days, consider incorporating more active recovery or lighter workout days to maintain balance.\n",
        "\"\"\")"
      ]
    }
  ],
  "metadata": {
    "colab": {
      "last_runtime": {
        "build_target": "//learning/grp/tools/ml_python:ml_notebook",
        "kind": "private"
      },
      "provenance": []
    },
    "kernelspec": {
      "display_name": "Python 3",
      "name": "python3"
    },
    "language_info": {
      "name": "python"
    }
  },
  "nbformat": 4,
  "nbformat_minor": 0
}

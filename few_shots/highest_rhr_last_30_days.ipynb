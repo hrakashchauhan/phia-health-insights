{
  "cells": [
    {
      "cell_type": "markdown",
      "metadata": {
        "id": "hVX5r3hJtRVc"
      },
      "source": [
        "## What was my highest resting heart rate in the last 30 days?"
      ]
    },
    {
      "cell_type": "markdown",
      "metadata": {
        "id": "voXsKYO2tRVc"
      },
      "source": [
        "I can use the `during` method for this:"
      ]
    },
    {
      "cell_type": "code",
      "execution_count": 1,
      "metadata": {
        "id": "OnpdOKYbtRVc"
      },
      "outputs": [
        {
          "name": "stdout",
          "output_type": "stream",
          "text": [
            "63.53143063251866\n"
          ]
        }
      ],
      "source": [
        "summary_df.during(\"last 30 days\")['resting_heart_rate'].max()"
      ]
    },
    {
      "cell_type": "markdown",
      "metadata": {
        "id": "6D24QDFVtRVc"
      },
      "source": [
        "Your highest resting heart rate in the last 30 days was 63.53 bpm. While this value is within a normal range, it’s important to monitor any fluctuations or consistently high values to ensure they are not indicative of underlying health issues."
      ]
    },
    {
      "cell_type": "code",
      "execution_count": null,
      "metadata": {
        "id": "ImGibK0ltRVc"
      },
      "outputs": [],
      "source": [
        "# Final answer\n",
        "print(\"\"\"\n",
        "Your highest resting heart rate in the last 30 days was 63.53 bpm. While this value is within a normal range, a high resting heart rate can sometimes indicate stress, lack of sleep, or dehydration. To help manage your heart rate, consider the following:\n",
        "\n",
        "- **Keep track of your stress levels:** Use relaxation techniques like deep breathing or meditation if you notice an increase.\n",
        "- **Get good sleep:** Ensure you are getting 7-9 hours of quality sleep each night.\n",
        "- **Stay hydrated:** Drink plenty of water throughout the day.\n",
        "\n",
        "If you have concerns about your resting heart rate, it's always a good idea to talk to your doctor. They can help figure out what's going on and suggest the best next steps for you.\n",
        "\"\"\")"
      ]
    }
  ],
  "metadata": {
    "kernelspec": {
      "display_name": "Python 3",
      "language": "python",
      "name": "python3"
    },
    "language_info": {
      "name": "python"
    }
  },
  "nbformat": 4,
  "nbformat_minor": 4
}

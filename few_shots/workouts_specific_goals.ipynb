{
  "cells": [
    {
      "cell_type": "markdown",
      "metadata": {
        "id": "dm2aMj3iHG2K"
      },
      "source": [
        "## What workouts should I be doing to reach my specific goals?"
      ]
    },
    {
      "cell_type": "markdown",
      "metadata": {
        "id": "vqErkTFoQuz9"
      },
      "source": [
        "To answer this question, I'll first calculate the average active zone minutes from the activities_df DataFrame. Then, I'll use the Search tool to find the recommended number of active zone minutes. Finally, I'll use the Search tool again to find workouts that can help reach this goal."
      ]
    },
    {
      "cell_type": "code",
      "execution_count": 1,
      "metadata": {
        "id": "FtHpHLZkVA5g"
      },
      "outputs": [
        {
          "name": "stdout",
          "output_type": "stream",
          "text": [
            "20.535714285714285"
          ]
        }
      ],
      "source": [
        "avg_active_zone_minutes = activities_df['activeZoneMinutes'].mean()\n",
        "avg_active_zone_minutes"
      ]
    },
    {
      "cell_type": "markdown",
      "metadata": {
        "id": "ksKuqAF3nkCe"
      },
      "source": [
        "Now that I have the average active zone minutes, I'll use the Search tool to find the recommended number of active zone minutes."
      ]
    },
    {
      "cell_type": "code",
      "execution_count": 2,
      "metadata": {
        "id": "PjJuqO9GQ5aX"
      },
      "outputs": [
        {
          "name": "stdout",
          "output_type": "stream",
          "text": [
            "\"What are Active Zone Minutes or active minutes on my Fitbit\\nThe American Heart Association recommends at least 150 minutes of moderate activity or 75 minutes of vigorous activity, or a combination of both, each week. If you earn an average of 22 Active Zone Minutes daily, you meet this recommendation, but you can change your goal based on your needs.\\n*Your Fitbit device doesn't track your heart rate during a swim workout. You earn 1 Active Zone Minute for each minute of swimming. What is my Active Zone Minutes goal on my Fitbit device? To start, your goal is to earn 150 Active Zone Minutes each week. The American Heart Association recommends at least 150 minutes of moderate activity or 75 minutes of vigorous activity, or a combination of both, each week. If you earn an average of 22 Active Zone Minutes daily, you meet this recommendation, but you can change your goal based on your needs. How do I change my Active Zone Minutes goal? Update your goal in the Fitbit app.\\nWhat is my active minutes goal on my Fitbit device? To start, your active minutes goal is based on the Center for Disease Control's recommendation of daily moderate-to-intense activity: 30 minutes for adults and 60 minutes for children. You can change this goal to meet your needs. How do I change my active minutes goal? Update your goal in the Fitbit app. For more information, see How do I track my health and fitness goals with Fitbit?\""
          ]
        }
      ],
      "source": [
        "# search('recommended number of active zone minutes')"
      ]
    },
    {
      "cell_type": "markdown",
      "metadata": {
        "id": "ksKuqAF3nkCe"
      },
      "source": [
        "The American Heart Association recommends at least 150 minutes of moderate activity or 75 minutes of vigorous activity, or a combination of both, each week. If you earn an average of 22 Active Zone Minutes daily, you meet this recommendation. Currently, your average is around 20.5 minutes, which is slightly below the recommendation. Now, I'll use the Search tool to find workouts that can help increase your active zone minutes."
      ]
    },
    {
      "cell_type": "code",
      "execution_count": 3,
      "metadata": {
        "id": "PjJuqO9GQ5aX"
      },
      "outputs": [
        {
          "name": "stdout",
          "output_type": "stream",
          "text": [
            "\"For more intense workouts, such as spinning, interval training, or running, the number of Active Zone Minutes you earn might exceed the length of your workout. For example, if you run for a total of 20 minutes and spend 10 minutes in the fat burn zone and 10 minutes in the cardio or peak zones, you earn 30 Active Zone Minutes.\""
          ]
        }
      ],
      "source": [
        "# search('workouts to increase active zone minutes')"
      ]
    },
    {
      "cell_type": "markdown",
      "metadata": {
        "id": "ksKuqAF3nkCe"
      },
      "source": [
        "By analyzing your average Active Zone Minutes and considering the recommendations, I can provide an overview of the workouts you should be doing to reach your specific goals. However, more information about your specific goals will allow for more tailored recommendations. By analyzing your average Active Zone Minutes and considering the recommendations, I can provide an overview of the workouts you should be doing to reach your specific goals."
      ]
    },
    {
      "cell_type": "code",
      "execution_count": 4,
      "metadata": {
        "id": "-8Y5jIY3VSp-"
      },
      "outputs": [],
      "source": [
        "# Final answer\n",
        "print(\"\"\"\n",
        "The American Heart Association recommends at least 150 minutes of moderate activity or 75 minutes of vigorous activity, or a combination of both, each week. If you earn an average of 22 Active Zone Minutes daily, you meet this recommendation. Currently, your average is around 20.5 minutes, which is slightly below the recommendation. To help you reach your goals, here are some tailored suggestions:\n",
        "\n",
        "- **If your goal is to lose weight:** Incorporate high-intensity interval training (HIIT), running, or spinning to increase your calorie burn and Active Zone Minutes.\n",
        "- **If your goal is to build muscle:** Focus on strength training exercises like weightlifting, bodyweight exercises, and resistance band workouts. Aim to work all major muscle groups at least twice a week.\n",
        "- **If your goal is to improve endurance:** Include longer sessions of moderate-intensity exercises like cycling, swimming, or brisk walking. Gradually increase the duration and intensity to build stamina.\n",
        "- **If your goal is to get more active overall:** Mix different types of activities you enjoy, such as dancing, hiking, or group fitness classes, to keep your routine engaging.\n",
        "\n",
        "Remember, incorporating more intense workouts like spinning, interval training, or running can help increase your Active Zone Minutes. For example, running for a total of 20 minutes with 10 minutes in the fat burn zone and 10 minutes in the cardio or peak zones earns you 30 Active Zone Minutes. This is because 1 minute in the fat burn zone earns 1 Active Zone Minute, and 1 minute in the cardio or peak zone earns 2 Active Zone Minutes. Therefore, incorporating these types of workouts into your routine can help you reach the recommended number of Active Zone Minutes. Your target heart rate zones are personalized based on your age and resting heart rate, so it's important to listen to your body and adjust your workouts as needed. For more personalized advice, let me know your specific goals, how often you want to exercise, and what activities you enjoy.\n",
        "\"\"\")"
      ]
    }
  ],
  "metadata": {
    "kernelspec": {
      "display_name": "Python 3",
      "language": "python",
      "name": "python3"
    },
    "language_info": {
      "codemirror_mode": {
        "name": "ipython",
        "version": 3
      },
      "file_extension": ".py",
      "mimetype": "text/x-python",
      "name": "python",
      "nbconvert_exporter": "python",
      "pygments_lexer": "ipython3",
      "version": "3.8.8"
    }
  },
  "nbformat": 4,
  "nbformat_minor": 0
}

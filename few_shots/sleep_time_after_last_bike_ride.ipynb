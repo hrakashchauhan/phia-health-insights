{
  "cells": [
    {
      "cell_type": "markdown",
      "metadata": {
        "id": "dm2aMj3iHG2K"
      },
      "source": [
        "## What was my sleep time after my last bike ride?"
      ]
    },
    {
      "cell_type": "markdown",
      "metadata": {
        "id": "vqErkTFoQuz9"
      },
      "source": [
        "I can use the `during` method for this:"
      ]
    },
    {
      "cell_type": "code",
      "execution_count": 1,
      "metadata": {
        "id": "FtHpHLZkVA5g"
      },
      "outputs": [
        {
          "name": "stdout",
          "output_type": "stream",
          "text": [
            "datetime\n2024-02-12    436.82199\nName: sleep_minutes, dtype: float64"
          ]
        }
      ],
      "source": [
        "last_bike = activities_df[activities_df[\"activityName\"]==\"Bike\"].index.max()\n",
        "sleep_time = summary_df.during(last_bike)[\"sleep_minutes\"]\n",
        "sleep_time"
      ]
    },
    {
      "cell_type": "markdown",
      "metadata": {
        "id": "ksKuqAF3nkCe"
      },
      "source": [
        "After your last bike ride, you slept for 436.8 minutes. This is approximately 7 hours and 17 minutes, which falls within the recommended sleep duration for adults. This suggests that your bike ride may have contributed to a restful night's sleep."
      ]
    },
    {
      "cell_type": "code",
      "execution_count": 2,
      "metadata": {
        "id": "-8Y5jIY3VSp-"
      },
      "outputs": [],
      "source": [
        "# Final answer\n",
        "print(\"After your last bike ride, you slept for 436.8 minutes, which is approximately 7 hours and 17 minutes. This falls within the recommended sleep duration for adults, indicating a good night's rest. Engaging in physical activities like biking can positively impact your sleep quality, helping you feel more rested and refreshed. Keep up the good work and continue incorporating regular exercise into your routine to support overall health and well-being.\")"
      ]
    }
  ],
  "metadata": {
    "kernelspec": {
      "display_name": "Python 3",
      "language": "python",
      "name": "python3"
    },
    "language_info": {
      "codemirror_mode": {
        "name": "ipython",
        "version": 3
      },
      "file_extension": ".py",
      "mimetype": "text/x-python",
      "name": "python",
      "nbconvert_exporter": "python",
      "pygments_lexer": "ipython3",
      "version": "3.8.8"
    }
  },
  "nbformat": 4,
  "nbformat_minor": 0
}

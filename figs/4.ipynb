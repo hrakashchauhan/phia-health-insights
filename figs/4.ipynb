{
 "cells": [
  {
   "cell_type": "code",
   "execution_count": 1,
   "metadata": {
    "executionInfo": {
     "elapsed": 54,
     "status": "ok",
     "timestamp": 1710529590151,
     "user": {
      "displayName": "Mike Merrill",
      "userId": "02101753862020591039"
     },
     "user_tz": 420
    },
    "id": "nde6M5q6wjis"
   },
   "outputs": [
    {
     "name": "stdout",
     "output_type": "stream",
     "text": [
      "Intel MKL WARNING: Support of Intel(R) Streaming SIMD Extensions 4.2 (Intel(R) SSE4.2) enabled only processors has been deprecated. Intel oneAPI Math Kernel Library 2025.0 will require Intel(R) Advanced Vector Extensions (Intel(R) AVX) instructions.\n",
      "Intel MKL WARNING: Support of Intel(R) Streaming SIMD Extensions 4.2 (Intel(R) SSE4.2) enabled only processors has been deprecated. Intel oneAPI Math Kernel Library 2025.0 will require Intel(R) Advanced Vector Extensions (Intel(R) AVX) instructions.\n"
     ]
    }
   ],
   "source": [
    "import re\n",
    "from matplotlib import pyplot as plt\n",
    "import pandas as pd\n",
    "import seaborn as sns\n",
    "from glob import glob\n",
    "import numpy as np\n",
    "import math"
   ]
  },
  {
   "cell_type": "code",
   "execution_count": 2,
   "metadata": {
    "executionInfo": {
     "elapsed": 4,
     "status": "ok",
     "timestamp": 1710526119929,
     "user": {
      "displayName": "Mike Merrill",
      "userId": "02101753862020591039"
     },
     "user_tz": 420
    },
    "id": "cizNvEbi5Cyq"
   },
   "outputs": [],
   "source": [
    "ROOT_RESULT_DIR = \"./data/human_label_experiments/\" # @param {type:\"string\"}\n",
    "REASONING_EVAL_SHEET = \"./data/PHIA-TVC-Labeling-v2.xlsx\""
   ]
  },
  {
   "cell_type": "code",
   "execution_count": 3,
   "metadata": {
    "executionInfo": {
     "elapsed": 55,
     "status": "ok",
     "timestamp": 1710526860634,
     "user": {
      "displayName": "Mike Merrill",
      "userId": "02101753862020591039"
     },
     "user_tz": 420
    },
    "id": "8oB1-Jym5ELA"
   },
   "outputs": [],
   "source": [
    "\n",
    "def extract_info(path):\n",
    "    # Extracting number of examples\n",
    "    num_examples_match = re.search(r'(-?\\d+)SHOTS', path)\n",
    "    if num_examples_match:\n",
    "        num_examples = int(num_examples_match.group(1))\n",
    "        if num_examples == -1:\n",
    "          num_examples = \"All\"\n",
    "    else:\n",
    "        num_examples = None\n",
    "\n",
    "    # Extracting method for selecting examples\n",
    "    method_match = re.search(r'(knn|random)', path)\n",
    "    if num_examples == \"All\":\n",
    "      method = \"\"\n",
    "    elif method_match:\n",
    "      if method_match.group(1) == \"knn\":\n",
    "        method = \"KNN \"\n",
    "      else:\n",
    "        method = \"Random \"\n",
    "    else:\n",
    "        method = None\n",
    "\n",
    "    # Checking if agent or non-agent\n",
    "    agent_match = re.search(r'non_agent', path)\n",
    "    if agent_match:\n",
    "        agent = False\n",
    "        agent_str = \"Non-Agent\"\n",
    "    else:\n",
    "        agent = True\n",
    "        agent_str = \"CHIA\"\n",
    "\n",
    "    if \"non_search\" in path:\n",
    "      search_str = \" - No Search\"\n",
    "\n",
    "    else:\n",
    "      search_str = \"\"\n",
    "    # Nicely formatted name\n",
    "    name = f\"{agent_str} {method}{num_examples} Examples{search_str}\"\n",
    "\n",
    "    return {\n",
    "        'num_examples': num_examples,\n",
    "        'fewshot_method': method,\n",
    "        'agent': agent,\n",
    "        'name': name\n",
    "    }\n",
    "\n",
    "def load_all_results(path):\n",
    "  all_results = []\n",
    "  for f in glob(path + \"*.json\"):\n",
    "    df = pd.read_json(f,orient=\"records\")\n",
    "    df[\"origin\"] = f\n",
    "    df[\"persona\"]  = f.split(\"_\")[-1]\n",
    "    # df = df.drop_duplicates(subset=[\"question\"])\n",
    "    metadata = pd.DataFrame(df[\"origin\"].dropna().map(extract_info).tolist(), index=df.index)\n",
    "    df = df.merge(metadata,left_index=True, right_index=True)\n",
    "    all_results.append(df)\n",
    "\n",
    "  return pd.concat(all_results)\n"
   ]
  },
  {
   "cell_type": "code",
   "execution_count": 4,
   "metadata": {
    "executionInfo": {
     "elapsed": 5,
     "status": "ok",
     "timestamp": 1710526147449,
     "user": {
      "displayName": "Mike Merrill",
      "userId": "02101753862020591039"
     },
     "user_tz": 420
    },
    "id": "Vc7jvW0a5xCp",
    "outputId": "f5950a35-40ca-4b45-d089-424059da12cd"
   },
   "outputs": [],
   "source": [
    "outputs_df = load_all_results(ROOT_RESULT_DIR)\n",
    "outputs_df = outputs_df.rename(columns={\"uuid\":\"id\"})"
   ]
  },
  {
   "cell_type": "markdown",
   "metadata": {},
   "source": [
    "## Reasoning Results"
   ]
  },
  {
   "cell_type": "code",
   "execution_count": 5,
   "metadata": {},
   "outputs": [],
   "source": [
    "# @title Load the results for reasoning\n",
    "reasoning_results = []\n",
    "\n",
    "reasoning_questions = ['This response references all relevant user data.',\n",
    "       'This response properly interprets referenced user data.',\n",
    "       'This response contains evidence of correct personalization, referencing appropriate user data, or correctly refuses to answer when such data is missing.',\n",
    "       'This response contains evidence of relevant and correct domain knowledge (e.g., mention of a relevant and/or correct fact for answering the question)',\n",
    "       'This response contains evidence of correct reasoning and logic.',\n",
    "       'This response contains information that could lead to harm.',\n",
    "       'This response is easy to read and is clear about the actions the user can perform.']\n",
    "\n",
    "\n",
    "def is_nan(val):\n",
    "    try:\n",
    "        return math.isnan(val) or np.isnan(val)\n",
    "    except TypeError:\n",
    "        return False\n",
    "        \n",
    "def validate_reasoning_responses(val):\n",
    "    if val in [\"yes\", \"Yes\", 1, 1.0, \"1\"]:\n",
    "        return 1.0\n",
    "    elif val in [\"no\", \"No\", 0, 0.0, \"0\"]:\n",
    "        return 0.0\n",
    "    elif val in [\"N/A\", \"NaN\",\"nan\"] or is_nan(val):\n",
    "        return np.nan\n",
    "    else:\n",
    "        print(type(val))\n",
    "        raise ValueError(val)\n",
    "\n",
    "def parse_question(question: str) -> str:\n",
    "  if \"Question:\" in question:\n",
    "    return question.split(\"Question:\")[-1].strip()\n",
    "  else:\n",
    "    return question.strip()\n",
    "    \n",
    "xls = pd.ExcelFile(REASONING_EVAL_SHEET)\n",
    "# Initialize an empty list to store each sheet's DataFrame\n",
    "reasoning_results = []\n",
    "\n",
    "# Iterate through each sheet in the Excel file\n",
    "for sheet_name in xls.sheet_names:\n",
    "    df = xls.parse(sheet_name)\n",
    "    for col in reasoning_questions:\n",
    "        df[col] = df[col].map(validate_reasoning_responses)\n",
    "    df['rater'] = sheet_name\n",
    "    # Append the DataFrame to our list\n",
    "    df[\"Rater Name\"] = df[\"Rater Name\"].ffill()\n",
    "    reasoning_results.append(df)\n",
    "\n",
    "reasoning_results = pd.concat(reasoning_results)\n",
    "reasoning_results = reasoning_results.rename(\n",
    "    columns={\"ID (IGNORE)\": \"id\"}\n",
    ")\n",
    "\n",
    "NUMERIC_COLUMNS = [\n",
    "    'What is the overall quality of this response?'\n",
    "]\n",
    "reasoning_results = reasoning_results.replace(r'^\\s*$', np.nan, regex=True)\n",
    "reasoning_results = reasoning_results.dropna(subset = [\"id\"]).reset_index(drop=True)\n",
    "\n",
    "for col in NUMERIC_COLUMNS:\n",
    "  reasoning_results[col] = pd.to_numeric(reasoning_results[col])\n",
    "\n",
    "# # Add in the output analysis:\n",
    "reasoning_results = reasoning_results.merge(outputs_df, on=\"id\", how = \"inner\").dropna(subset = 'What is the overall quality of this response?')\n",
    "reasoning_results[\"question\"] = reasoning_results[\"question\"].map(parse_question)"
   ]
  },
  {
   "cell_type": "markdown",
   "metadata": {},
   "source": [
    "## Are we better or worse at certain questions? "
   ]
  },
  {
   "cell_type": "code",
   "execution_count": 8,
   "metadata": {},
   "outputs": [],
   "source": [
    "questions_df = pd.read_csv(\"./data/phia_human_eval_question_list.csv\").drop_duplicates(subset=\"Question\")"
   ]
  },
  {
   "cell_type": "code",
   "execution_count": 9,
   "metadata": {},
   "outputs": [],
   "source": [
    "def parse_question(question: str) -> str:\n",
    "  if \"Question:\" in question:\n",
    "    return question.split(\"Question:\")[-1].strip()\n",
    "  else:\n",
    "    return question.strip()\n",
    "\n",
    "reasoning_results[\"question_parsed\"] = reasoning_results[\"question\"].map(parse_question)\n"
   ]
  },
  {
   "cell_type": "code",
   "execution_count": 10,
   "metadata": {},
   "outputs": [],
   "source": [
    "reasoning_with_query_types = pd.merge(reasoning_results,questions_df[[\"Question\",\"Query Type\"]], left_on=\"question\",\n",
    "                       right_on=\"Question\", how = \"inner\")\n",
    "reasoning_with_query_types = reasoning_with_query_types[reasoning_with_query_types[\"name\"].isin([\"Non-Agent All Examples\",\"CHIA KNN 10 Examples\"])]\n",
    "reasoning_with_query_types[\"Overall Score\"] = (reasoning_with_query_types[\"What is the overall quality of this response?\"] - 1) * 25\n",
    "\n",
    "\n",
    "query_renames = {\n",
    "    \"x-time-frame comparison\": \"Compare Time Periods\",\n",
    "    \"compare vs population sample\":\"Compare v.s. Population\",\n",
    "    \"Average\": \"Personal Min/Max/Avg.\",\n",
    "    \"Personal Best/Worst\": \"Personal Min/Max/Avg.\",\n",
    "    \"Lowest/Highest\": \"Personal Min/Max/Avg.\",\n",
    "    'Compare v.s. Population' : \"Compare to Cohort\",\n",
    "    'Query' : \"General Knowledge\"\n",
    "    \n",
    "}\n",
    "reasoning_with_query_types[\"Query Type\"] = reasoning_with_query_types[\"Query Type\"].map(lambda x: query_renames.get(x,x))\n",
    "                                                                                        "
   ]
  },
  {
   "cell_type": "code",
   "execution_count": 11,
   "metadata": {},
   "outputs": [],
   "source": [
    "def bootstrap_fn(series,fn, n_samples=1000, cis = [0.025,0.975], to_str=False,\n",
    "                precision = 3):\n",
    "    results = []\n",
    "    for i in range(n_samples):\n",
    "        x = series.sample(frac=1.0, replace=True) \n",
    "        results.append(fn(x))\n",
    "\n",
    "    mean = np.mean(results)\n",
    "    cis = np.quantile(results,cis)\n",
    "    if to_str:\n",
    "        mean = '{0:.{1}f}'.format(mean, precision)\n",
    "        ci_0 = '{0:.{1}f}'.format(cis[0], precision)\n",
    "        ci_1 = '{0:.{1}f}'.format(cis[1], precision)\n",
    "        return f\"{mean} ({ci_0}, {ci_1})\"\n",
    "        \n",
    "        \n",
    "    return mean, cis\n",
    "\n",
    "def bootstrapped_mean(x, **kwargs):\n",
    "    return bootstrap_fn(x,np.mean,**kwargs)\n",
    "    \n",
    "score_by_query_type = reasoning_with_query_types.groupby([\"name\",\"Query Type\"])[\"What is the overall quality of this response?\"].apply(bootstrapped_mean).to_frame().unstack(0)\n",
    "score_by_query_type.columns = score_by_query_type.columns.droplevel(0)"
   ]
  },
  {
   "cell_type": "code",
   "execution_count": 12,
   "metadata": {},
   "outputs": [
    {
     "data": {
      "text/html": [
       "<div>\n",
       "<style scoped>\n",
       "    .dataframe tbody tr th:only-of-type {\n",
       "        vertical-align: middle;\n",
       "    }\n",
       "\n",
       "    .dataframe tbody tr th {\n",
       "        vertical-align: top;\n",
       "    }\n",
       "\n",
       "    .dataframe thead th {\n",
       "        text-align: right;\n",
       "    }\n",
       "</style>\n",
       "<table border=\"1\" class=\"dataframe\">\n",
       "  <thead>\n",
       "    <tr style=\"text-align: right;\">\n",
       "      <th>name</th>\n",
       "      <th>CHIA KNN 10 Examples</th>\n",
       "      <th>Non-Agent All Examples</th>\n",
       "    </tr>\n",
       "    <tr>\n",
       "      <th>Query Type</th>\n",
       "      <th></th>\n",
       "      <th></th>\n",
       "    </tr>\n",
       "  </thead>\n",
       "  <tbody>\n",
       "    <tr>\n",
       "      <th>Anomaly</th>\n",
       "      <td>(3.445257142857143, [3.1, 3.7857142857142856])</td>\n",
       "      <td>(2.8859142857142857, [2.6, 3.2])</td>\n",
       "    </tr>\n",
       "    <tr>\n",
       "      <th>Compare Time Periods</th>\n",
       "      <td>(3.982424242424243, [3.727272727272727, 4.2272...</td>\n",
       "      <td>(3.052759259259259, [2.759259259259259, 3.3703...</td>\n",
       "    </tr>\n",
       "    <tr>\n",
       "      <th>Compare v.s. Population</th>\n",
       "      <td>(2.9899516129032255, [2.6129032258064515, 3.38...</td>\n",
       "      <td>(1.768125, [1.4583333333333333, 2.104166666666...</td>\n",
       "    </tr>\n",
       "    <tr>\n",
       "      <th>Correlation</th>\n",
       "      <td>(4.03011003236246, [3.889886731391586, 4.16828...</td>\n",
       "      <td>(3.3676017699115044, [3.181305309734513, 3.557...</td>\n",
       "    </tr>\n",
       "    <tr>\n",
       "      <th>General Knowledge</th>\n",
       "      <td>(3.841042372881356, [3.6948093220338984, 3.978...</td>\n",
       "      <td>(2.992145945945946, [2.8162162162162163, 3.183...</td>\n",
       "    </tr>\n",
       "    <tr>\n",
       "      <th>Personal Min/Max/Avg.</th>\n",
       "      <td>(3.2460753424657534, [3.1095890410958904, 3.38...</td>\n",
       "      <td>(3.156268518518518, [2.9814814814814814, 3.314...</td>\n",
       "    </tr>\n",
       "    <tr>\n",
       "      <th>Problematic</th>\n",
       "      <td>(3.922244019138756, [3.760645933014354, 4.0956...</td>\n",
       "      <td>(3.7786000000000004, [3.5914583333333336, 3.97...</td>\n",
       "    </tr>\n",
       "    <tr>\n",
       "      <th>Summary</th>\n",
       "      <td>(3.8652790697674417, [3.627906976744186, 4.093...</td>\n",
       "      <td>(2.750454545454545, [2.3636363636363638, 3.136...</td>\n",
       "    </tr>\n",
       "    <tr>\n",
       "      <th>Trend</th>\n",
       "      <td>(2.8630882352941174, [2.607843137254902, 3.117...</td>\n",
       "      <td>(2.394055555555555, [2.1555555555555554, 2.611...</td>\n",
       "    </tr>\n",
       "  </tbody>\n",
       "</table>\n",
       "</div>"
      ],
      "text/plain": [
       "name                                                  CHIA KNN 10 Examples  \\\n",
       "Query Type                                                                   \n",
       "Anomaly                     (3.445257142857143, [3.1, 3.7857142857142856])   \n",
       "Compare Time Periods     (3.982424242424243, [3.727272727272727, 4.2272...   \n",
       "Compare v.s. Population  (2.9899516129032255, [2.6129032258064515, 3.38...   \n",
       "Correlation              (4.03011003236246, [3.889886731391586, 4.16828...   \n",
       "General Knowledge        (3.841042372881356, [3.6948093220338984, 3.978...   \n",
       "Personal Min/Max/Avg.    (3.2460753424657534, [3.1095890410958904, 3.38...   \n",
       "Problematic              (3.922244019138756, [3.760645933014354, 4.0956...   \n",
       "Summary                  (3.8652790697674417, [3.627906976744186, 4.093...   \n",
       "Trend                    (2.8630882352941174, [2.607843137254902, 3.117...   \n",
       "\n",
       "name                                                Non-Agent All Examples  \n",
       "Query Type                                                                  \n",
       "Anomaly                                   (2.8859142857142857, [2.6, 3.2])  \n",
       "Compare Time Periods     (3.052759259259259, [2.759259259259259, 3.3703...  \n",
       "Compare v.s. Population  (1.768125, [1.4583333333333333, 2.104166666666...  \n",
       "Correlation              (3.3676017699115044, [3.181305309734513, 3.557...  \n",
       "General Knowledge        (2.992145945945946, [2.8162162162162163, 3.183...  \n",
       "Personal Min/Max/Avg.    (3.156268518518518, [2.9814814814814814, 3.314...  \n",
       "Problematic              (3.7786000000000004, [3.5914583333333336, 3.97...  \n",
       "Summary                  (2.750454545454545, [2.3636363636363638, 3.136...  \n",
       "Trend                    (2.394055555555555, [2.1555555555555554, 2.611...  "
      ]
     },
     "execution_count": 12,
     "metadata": {},
     "output_type": "execute_result"
    }
   ],
   "source": [
    "score_by_query_type"
   ]
  },
  {
   "cell_type": "code",
   "execution_count": 13,
   "metadata": {},
   "outputs": [],
   "source": [
    "score_by_query_type[\"agent_adv_l_ci\"] = score_by_query_type.apply(lambda x: x[\"CHIA KNN 10 Examples\"][1][0] - x[\"Non-Agent All Examples\"][1][0], axis=1)\n",
    "score_by_query_type[\"agent_adv_u_ci\"] = score_by_query_type.apply(lambda x: x[\"CHIA KNN 10 Examples\"][1][1] - x[\"Non-Agent All Examples\"][1][1], axis=1)"
   ]
  },
  {
   "cell_type": "code",
   "execution_count": 14,
   "metadata": {},
   "outputs": [
    {
     "name": "stderr",
     "output_type": "stream",
     "text": [
      "/var/folders/wj/1srvs8v51rbbh49050rdwprw0000gn/T/ipykernel_62155/1480668917.py:10: DeprecationWarning: DataFrameGroupBy.apply operated on the grouping columns. This behavior is deprecated, and in a future version of pandas the grouping columns will be excluded from the operation. Either pass `include_groups=False` to exclude the groupings or explicitly select the grouping columns after groupby to silence this warning.\n",
      "  mean_diffs = reasoning_with_query_types.groupby(\"Query Type\").apply(bootstrap_mean_diff).rename(\"raw\").to_frame().reset_index()\n"
     ]
    }
   ],
   "source": [
    "def bootstrap_mean_diff(df):\n",
    "    def fn(df):\n",
    "        agent_mean = df[df[\"name\"]==\"CHIA KNN 10 Examples\"][\"Overall Score\"].mean()\n",
    "        non_agent_mean = df[df[\"name\"]==\"Non-Agent All Examples\"][\"Overall Score\"].mean()\n",
    "        return agent_mean - non_agent_mean\n",
    "    return bootstrap_fn(df,fn)\n",
    "\n",
    "\n",
    "\n",
    "mean_diffs = reasoning_with_query_types.groupby(\"Query Type\").apply(bootstrap_mean_diff).rename(\"raw\").to_frame().reset_index()\n",
    "mean_diffs[\"val\"] = mean_diffs[\"raw\"].map(lambda x: x[0])\n",
    "mean_diffs[\"lower_ci\"] = mean_diffs[\"raw\"].map(lambda x: x[1][0])\n",
    "mean_diffs[\"upper_ci\"] = mean_diffs[\"raw\"].map(lambda x: x[1][1])\n"
   ]
  },
  {
   "cell_type": "code",
   "execution_count": 15,
   "metadata": {},
   "outputs": [
    {
     "name": "stderr",
     "output_type": "stream",
     "text": [
      "/var/folders/wj/1srvs8v51rbbh49050rdwprw0000gn/T/ipykernel_62155/3276615491.py:6: UserWarning: \n",
      "\n",
      "The `join` parameter is deprecated and will be removed in v0.15.0. You can remove the line between points with `linestyle='none'`.\n",
      "\n",
      "  sns.pointplot(y='Query Type', x='val', data=mean_diffs, join=False, capsize=0.1, hue = \"Query Type\")\n"
     ]
    },
    {
     "data": {
      "image/png": "[encoded data removed]",
      "text/plain": [
       "<Figure size 800x600 with 1 Axes>"
      ]
     },
     "metadata": {},
     "output_type": "display_data"
    }
   ],
   "source": [
    "\n",
    "MEDIUM_SIZE = 16\n",
    "mean_diffs = mean_diffs.sort_values(\"val\", ascending = False).reset_index(drop=True)\n",
    "# Creating a pointplot\n",
    "with plt.rc_context({'font.size': MEDIUM_SIZE, 'axes.labelsize': MEDIUM_SIZE, 'axes.titlesize': MEDIUM_SIZE}):\n",
    "    plt.figure(figsize=(8, 6))\n",
    "    sns.pointplot(y='Query Type', x='val', data=mean_diffs, join=False, capsize=0.1, hue = \"Query Type\")\n",
    "    \n",
    "    # Adding error bars manually because seaborn pointplot doesn't support precomputed intervals directly\n",
    "    for i in range(len(mean_diffs)):\n",
    "        plt.errorbar(y=i, x=mean_diffs.loc[i, 'val'], \n",
    "                     xerr=[[mean_diffs.loc[i, 'val'] - mean_diffs.loc[i, 'lower_ci']], [mean_diffs.loc[i, 'upper_ci'] - mean_diffs.loc[i, 'val']]], \n",
    "                     fmt='none', color='black', capsize=5,\n",
    "                    zorder = 0.9)\n",
    "    \n",
    "    plt.title('')\n",
    "    plt.ylabel('Query Type')\n",
    "    plt.xlabel('Average Improvement of Overall Reasoning Score')\n",
    "    plt.axvline(0,linestyle = \"--\", color = \"grey\")\n",
    "    plt.savefig(\"figs/4.pdf\", bbox_inches=\"tight\")\n",
    "    plt.show()\n"
   ]
  }
 ],
 "metadata": {
  "colab": {
   "last_runtime": {
    "build_target": "//learning/grp/tools/ml_python:ml_notebook",
    "kind": "private"
   },
   "provenance": []
  },
  "kernelspec": {
   "display_name": "chia",
   "language": "python",
   "name": "python3"
  },
  "language_info": {
   "codemirror_mode": {
    "name": "ipython",
    "version": 3
   },
   "file_extension": ".py",
   "mimetype": "text/x-python",
   "name": "python",
   "nbconvert_exporter": "python",
   "pygments_lexer": "ipython3",
   "version": "3.9.19"
  },
  "widgets": {
   "application/vnd.jupyter.widget-state+json": {
    "4d21556901de4e3ebb13ed8d817933fa": {
     "model_module": "@jupyter-widgets/controls",
     "model_module_version": "1.5.0",
     "model_name": "DescriptionStyleModel",
     "state": {
      "_model_module": "@jupyter-widgets/controls",
      "_model_module_version": "1.5.0",
      "_model_name": "DescriptionStyleModel",
      "_view_count": null,
      "_view_module": "@jupyter-widgets/base",
      "_view_module_version": "1.2.0",
      "_view_name": "StyleView",
      "description_width": ""
     }
    },
    "53414c4fc4844addb6ecc90cc3d490b5": {
     "model_module": "@jupyter-widgets/controls",
     "model_module_version": "1.5.0",
     "model_name": "HTMLModel",
     "state": {
      "_dom_classes": [],
      "_model_module": "@jupyter-widgets/controls",
      "_model_module_version": "1.5.0",
      "_model_name": "HTMLModel",
      "_view_count": null,
      "_view_module": "@jupyter-widgets/controls",
      "_view_module_version": "1.5.0",
      "_view_name": "HTMLView",
      "description": "",
      "description_tooltip": null,
      "layout": "IPY_MODEL_597ffe8f5b6e44d3ad677d07d21e25b0",
      "placeholder": "​",
      "style": "IPY_MODEL_4d21556901de4e3ebb13ed8d817933fa",
      "value": "<span style=\"font-weight: bold; color: #DAA520; font-size:14pt\">[Question]</span>:<br> Try to use both Search() and Python code generation to solve the following health question when appropriate. Do not use matplotlib in your code. Question: I am noticing my HRV (while asleep) seems to be all over the place and I am not sure what's affecting it and what it means?<br><span style=\"font-weight: bold; color: #1E90FF; font-size:14pt\">[Thought]</span>:<br> To answer this question, I need to analyze the user's HRV data and identify potential factors that may be influencing it. I'll use both Search() and Python code generation to gather insights.<br><span style=\"font-weight: bold; color: #1E90FF; font-size:14pt\">[Act]</span>:<br> <div style=\"  display: inline-block;\n  background-color: #F0F0F0; /* Light grey background */\n  color: #000000; /* Black text */\n  font-family: 'Courier New', Courier, monospace; /* Monospace font */\n  border-radius: 5px; /* Rounded corners */\n  padding: 5px; /* Some padding */\n  margin: 5px 0; /* A bit of margin */\n  line-height: 1.4; /* Improved readability */\n  max-width: 80%; /* Max width to mimic a messaging UI */\n  word-wrap: break-word; /* Ensure long words don't break the layout */\n  \"><br>Search:<br>  request: What factors affect HRV?<br></div><br><span style=\"font-weight: bold; color: #1E90FF; font-size:14pt\">[Observe]</span>:<br> #ERROR#: Tool Search is not registered.<br><span style=\"font-weight: bold; color: #1E90FF; font-size:14pt\">[Act]</span>:<br> <div style=\"  display: inline-block;\n  background-color: #F0F0F0; /* Light grey background */\n  color: #000000; /* Black text */\n  font-family: 'Courier New', Courier, monospace; /* Monospace font */\n  border-radius: 5px; /* Rounded corners */\n  padding: 5px; /* Some padding */\n  margin: 5px 0; /* A bit of margin */\n  line-height: 1.4; /* Improved readability */\n  max-width: 80%; /* Max width to mimic a messaging UI */\n  word-wrap: break-word; /* Ensure long words don't break the layout */\n  \"><br>Python:<br>  request: |-<br>    # Calculate the standard deviation of HRV to assess variability<br>    hrv_std = summary_df['heart_rate_variability'].std()<br>    # Join the summary_df and activities_df to analyze the relationship between activities and HRV<br>    activities_df.index = activities_df.index.date<br>    joined_df = summary_df.join(activities_df, how='right', lsuffix='_activity')<br>    # Calculate the correlation between different activities and HRV<br>    corr_activities_hrv = joined_df.groupby('activityName_activity')['heart_rate_variability'].corr(joined_df['heart_rate_variability'])<br>    (hrv_std, corr_activities_hrv)<br></div><br><span style=\"font-weight: bold; color: #1E90FF; font-size:14pt\">[Observe]</span>:<br> #ERROR#: KeyError: 'activityName_activity'<br><span style=\"font-weight: bold; color: #32CD32; font-size:14pt\">[Finish]</span>:<br> The standard deviation of your HRV is NaN, indicating significant variability. The correlation analysis couldn't be performed due to an error. It's important to consult with a healthcare professional to interpret your HRV data and identify any underlying health conditions or lifestyle factors that may be affecting it."
     }
    },
    "597ffe8f5b6e44d3ad677d07d21e25b0": {
     "model_module": "@jupyter-widgets/base",
     "model_module_version": "1.2.0",
     "model_name": "LayoutModel",
     "state": {
      "_model_module": "@jupyter-widgets/base",
      "_model_module_version": "1.2.0",
      "_model_name": "LayoutModel",
      "_view_count": null,
      "_view_module": "@jupyter-widgets/base",
      "_view_module_version": "1.2.0",
      "_view_name": "LayoutView",
      "align_content": null,
      "align_items": null,
      "align_self": null,
      "border": null,
      "bottom": null,
      "display": null,
      "flex": null,
      "flex_flow": null,
      "grid_area": null,
      "grid_auto_columns": null,
      "grid_auto_flow": null,
      "grid_auto_rows": null,
      "grid_column": null,
      "grid_gap": null,
      "grid_row": null,
      "grid_template_areas": null,
      "grid_template_columns": null,
      "grid_template_rows": null,
      "height": null,
      "justify_content": null,
      "justify_items": null,
      "left": null,
      "margin": null,
      "max_height": null,
      "max_width": null,
      "min_height": null,
      "min_width": null,
      "object_fit": null,
      "object_position": null,
      "order": null,
      "overflow": null,
      "overflow_x": null,
      "overflow_y": null,
      "padding": null,
      "right": null,
      "top": null,
      "visibility": null,
      "width": null
     }
    }
   }
  }
 },
 "nbformat": 4,
 "nbformat_minor": 4
}

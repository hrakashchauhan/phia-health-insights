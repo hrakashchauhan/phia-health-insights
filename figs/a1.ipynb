{
  "cells": [
    {
      "cell_type": "markdown",
      "metadata": {
        "id": "SUPiHBKUJXYy"
      },
      "source": [
        "# CHIA-Annotation-Analysis\n",
        "The purpose of this notebook is to analyze the results of the human evaluation of CHIA results."
      ]
    },
    {
      "cell_type": "code",
      "execution_count": 11,
      "metadata": {
        "id": "mBH_tHBXJ0RC"
      },
      "outputs": [],
      "source": [
        "import re\n",
        "from glob import glob\n",
        "from string import ascii_lowercase\n",
        "import numpy as np\n",
        "import pandas as pd\n",
        "import matplotlib.pyplot as plt\n",
        "import matplotlib.gridspec as gridspec\n",
        "import seaborn as sns\n",
        "import matplotlib as mpl\n",
        "import matplotlib.font_manager as fm\n",
        "import matplotlib.cm as cm"
      ]
    },
    {
      "cell_type": "code",
      "execution_count": 14,
      "metadata": {
        "id": "GcEdi3WhJSTM"
      },
      "outputs": [],
      "source": [
        "ROOT_RESULT_DIR = \"data/human_label_experiments/human_label_experiments_translation/\" # @param {type:\"string\"}"
      ]
    },
    {
      "cell_type": "code",
      "execution_count": 15,
      "metadata": {
        "id": "uLv04KXBYStl"
      },
      "outputs": [],
      "source": [
        "# Plotting Constants\n",
        "SMALL_SIZE = 14\n",
        "MEDIUM_SIZE = 16\n",
        "BIGGER_SIZE = 18\n",
        "\n",
        "plt.rc('font', size=SMALL_SIZE)          # controls default text sizes\n",
        "plt.rc('axes', titlesize=SMALL_SIZE)     # fontsize of the axes title\n",
        "plt.rc('axes', labelsize=MEDIUM_SIZE)    # fontsize of the x and y labels\n",
        "plt.rc('xtick', labelsize=SMALL_SIZE)    # fontsize of the tick labels\n",
        "plt.rc('ytick', labelsize=SMALL_SIZE)    # fontsize of the tick labels\n",
        "plt.rc('legend', fontsize=SMALL_SIZE)    # legend fontsize\n",
        "plt.rc('figure', titlesize=BIGGER_SIZE)  # fontsize of the figure title"
      ]
    },
    {
      "cell_type": "markdown",
      "metadata": {
        "id": "O_DBo_pAMAvN"
      },
      "source": [
        "**bold text**## Evaluating Reasoning"
      ]
    },
    {
      "cell_type": "code",
      "execution_count": 16,
      "metadata": {
        "cellView": "form",
        "id": "UORvLZ_RLSgq"
      },
      "outputs": [],
      "source": [
        "NUMERIC_COLUMNS = [\n",
        "    'What is the overall quality of this response?'\n",
        "]\n",
        "reasoning_results = pd.read_csv(\"data/reasoning_results.csv\")\n",
        "\n",
        "for col in NUMERIC_COLUMNS:\n",
        "  reasoning_results[col] = pd.to_numeric(reasoning_results[col])"
      ]
    },
    {
      "cell_type": "code",
      "execution_count": 17,
      "metadata": {
        "id": "lGS1S2TiLyxj"
      },
      "outputs": [],
      "source": [
        "# @title Load translation results\n",
        "# Do this to link the results back to the methods\n",
        "\n",
        "def parse_question(question: str) -> str:\n",
        "  if \"Question:\" in question:\n",
        "    return question.split(\"Question:\")[-1].strip()\n",
        "  else:\n",
        "    return question.strip()\n",
        "\n",
        "def extract_info(path):\n",
        "    # Extracting number of examples\n",
        "    num_examples_match = re.search(r'(-?\\d+)SHOTS', path)\n",
        "    if num_examples_match:\n",
        "        num_examples = int(num_examples_match.group(1))\n",
        "        if num_examples == -1:\n",
        "          num_examples = \"All\"\n",
        "    else:\n",
        "        num_examples = None\n",
        "\n",
        "    # Extracting method for selecting examples\n",
        "    method_match = re.search(r'(knn|random)', path)\n",
        "    if num_examples == \"All\":\n",
        "      method = \"\"\n",
        "    elif method_match:\n",
        "      if method_match.group(1) == \"knn\":\n",
        "        method = \"KNN \"\n",
        "      else:\n",
        "        method = \"Random \"\n",
        "    else:\n",
        "        method = None\n",
        "\n",
        "    # Checking if agent or non-agent\n",
        "    agent_match = re.search(r'non_agent', path)\n",
        "    if agent_match:\n",
        "        agent = False\n",
        "        agent_str = \"Non-Agent\"\n",
        "    else:\n",
        "        agent = True\n",
        "        agent_str = \"CHIA\"\n",
        "\n",
        "    if \"non_search\" in path:\n",
        "      search_str = \" - No Search\"\n",
        "\n",
        "    else:\n",
        "      search_str = \"\"\n",
        "    # Nicely formatted name\n",
        "    name = f\"{agent_str} {method}{num_examples} Examples{search_str}\"\n",
        "\n",
        "    return {\n",
        "        'num_examples': num_examples,\n",
        "        'fewshot_method': method,\n",
        "        'agent': agent,\n",
        "        'name': name\n",
        "    }\n",
        "\n",
        "def extract_answer_from_row(row):\n",
        "  raw_data = row[\"raw_data\"]\n",
        "  if len(raw_data.split(\"[Finish] :\")) < 3:\n",
        "    return \"No answer\"\n",
        "  return raw_data[raw_data.rfind(\"[Finish] :\") : -len(\"\\nExplanation:\\n\")]\n",
        "\n",
        "all_results = []\n",
        "for each in glob(ROOT_RESULT_DIR + \"*.csv\"):\n",
        "  df = pd.read_csv(each)\n",
        "  df[\"origin\"] = each\n",
        "  df = df.drop_duplicates(subset=[\"question\"])\n",
        "  all_results.append(df)\n",
        "\n",
        "all_results = pd.concat(all_results).reset_index(drop=True)\n",
        "all_results[\"question\"] = all_results[\"question\"].map(parse_question)\n",
        "all_results[\"answer\"] = all_results.apply(extract_answer_from_row, axis=1)\n",
        "metadata = pd.DataFrame(all_results[\"origin\"].dropna().map(extract_info).tolist(), index=all_results.index)\n",
        "all_results = all_results.merge(metadata,left_index=True, right_index=True)\n",
        "\n",
        "reasoning_results = reasoning_results.merge(all_results,on = \"id\",how=\"left\")\n",
        "complete_reasoning_results = reasoning_results.dropna(subset = reasoning_results.columns[0])"
      ]
    },
    {
      "cell_type": "code",
      "execution_count": 18,
      "metadata": {
        "id": "uEjM-pzQLexw"
      },
      "outputs": [
        {
          "name": "stdout",
          "output_type": "stream",
          "text": [
            "8613/8613 complete (100.0%)\n"
          ]
        }
      ],
      "source": [
        "# @title Percentage Complete\n",
        "num_complete =len(complete_reasoning_results)\n",
        "percent_complete = round(num_complete / len(reasoning_results), 4) * 100\n",
        "print(f\"{num_complete}/{len(reasoning_results)} complete ({percent_complete}%)\")"
      ]
    },
    {
      "cell_type": "code",
      "execution_count": 19,
      "metadata": {
        "id": "LSQJuVNmTytp"
      },
      "outputs": [
        {
          "data": {
            "text/plain": [
              "name\n",
              "CHIA All Examples                   3.484819\n",
              "CHIA KNN 10 Examples                3.716780\n",
              "CHIA KNN 10 Examples - No Search    3.715640\n",
              "CHIA Random 10 Examples             3.734458\n",
              "Non-Agent All Examples              3.075922\n",
              "Name: What is the overall quality of this response?, dtype: float64"
            ]
          },
          "execution_count": 19,
          "metadata": {},
          "output_type": "execute_result"
        }
      ],
      "source": [
        "# @title Results by Method\n",
        "complete_reasoning_results.groupby(\"name\")['What is the overall quality of this response?'].mean()"
      ]
    },
    {
      "cell_type": "code",
      "execution_count": 24,
      "metadata": {
        "id": "8ukkLk7vqsZT"
      },
      "outputs": [
        {
          "name": "stdout",
          "output_type": "stream",
          "text": [
            "      Unnamed: 0 This response references all relevant user data.  \\\n",
            "0              0                                              NaN   \n",
            "1              1                                              Yes   \n",
            "2              2                                               No   \n",
            "3              3                                              Yes   \n",
            "4              4                                              NaN   \n",
            "...          ...                                              ...   \n",
            "8608        8608                                              Yes   \n",
            "8609        8609                                              NaN   \n",
            "8610        8610                                              Yes   \n",
            "8611        8611                                              NaN   \n",
            "8612        8612                                              Yes   \n",
            "\n",
            "     This response properly interprets referenced user data.  \\\n",
            "0                                                   NaN        \n",
            "1                                                   Yes        \n",
            "2                                                    No        \n",
            "3                                                   Yes        \n",
            "4                                                   NaN        \n",
            "...                                                 ...        \n",
            "8608                                                Yes        \n",
            "8609                                                NaN        \n",
            "8610                                                Yes        \n",
            "8611                                                NaN        \n",
            "8612                                                Yes        \n",
            "\n",
            "     This response contains evidence of correct personalization, referencing appropriate user data, or correctly refuses to answer when such data is missing.  \\\n",
            "0                                                   NaN                                                                                                         \n",
            "1                                                   Yes                                                                                                         \n",
            "2                                                   Yes                                                                                                         \n",
            "3                                                   Yes                                                                                                         \n",
            "4                                                   Yes                                                                                                         \n",
            "...                                                 ...                                                                                                         \n",
            "8608                                                Yes                                                                                                         \n",
            "8609                                                NaN                                                                                                         \n",
            "8610                                                Yes                                                                                                         \n",
            "8611                                                Yes                                                                                                         \n",
            "8612                                                Yes                                                                                                         \n",
            "\n",
            "     This response contains evidence of relevant and correct domain knowledge (e.g., mention of a relevant and/or correct fact for answering the question)  \\\n",
            "0                                                  TRUE                                                                                                      \n",
            "1                                                 FALSE                                                                                                      \n",
            "2                                                 FALSE                                                                                                      \n",
            "3                                                  TRUE                                                                                                      \n",
            "4                                                 FALSE                                                                                                      \n",
            "...                                                 ...                                                                                                      \n",
            "8608                                              FALSE                                                                                                      \n",
            "8609                                               TRUE                                                                                                      \n",
            "8610                                              FALSE                                                                                                      \n",
            "8611                                               TRUE                                                                                                      \n",
            "8612                                               TRUE                                                                                                      \n",
            "\n",
            "     This response contains evidence of correct reasoning and logic.  \\\n",
            "0                                                  TRUE                \n",
            "1                                                  TRUE                \n",
            "2                                                 FALSE                \n",
            "3                                                  TRUE                \n",
            "4                                                  TRUE                \n",
            "...                                                 ...                \n",
            "8608                                               TRUE                \n",
            "8609                                               TRUE                \n",
            "8610                                               TRUE                \n",
            "8611                                               TRUE                \n",
            "8612                                               TRUE                \n",
            "\n",
            "     This response contains information that could lead to harm.  \\\n",
            "0                                                 FALSE            \n",
            "1                                                 FALSE            \n",
            "2                                                 FALSE            \n",
            "3                                                 FALSE            \n",
            "4                                                 FALSE            \n",
            "...                                                 ...            \n",
            "8608                                              FALSE            \n",
            "8609                                              FALSE            \n",
            "8610                                              FALSE            \n",
            "8611                                              FALSE            \n",
            "8612                                              FALSE            \n",
            "\n",
            "     This response is easy to read and is clear about the actions the user can perform.  \\\n",
            "0                                                  TRUE                                   \n",
            "1                                                  TRUE                                   \n",
            "2                                                 FALSE                                   \n",
            "3                                                  TRUE                                   \n",
            "4                                                  TRUE                                   \n",
            "...                                                 ...                                   \n",
            "8608                                              FALSE                                   \n",
            "8609                                              FALSE                                   \n",
            "8610                                               TRUE                                   \n",
            "8611                                              FALSE                                   \n",
            "8612                                               TRUE                                   \n",
            "\n",
            "      What is the overall quality of this response?  \\\n",
            "0                                               3.0   \n",
            "1                                               3.0   \n",
            "2                                               1.0   \n",
            "3                                               4.0   \n",
            "4                                               4.0   \n",
            "...                                             ...   \n",
            "8608                                            4.0   \n",
            "8609                                            4.0   \n",
            "8610                                            5.0   \n",
            "8611                                            4.0   \n",
            "8612                                            5.0   \n",
            "\n",
            "     Do you have any comments on features or issues not covered by the above questions?  \\\n",
            "0                                                   NaN                                   \n",
            "1             Average daily steps for adults is not 10k                                   \n",
            "2     Analysis method seems incorrect, need more dat...                                   \n",
            "3                                                   NaN                                   \n",
            "4                                                   NaN                                   \n",
            "...                                                 ...                                   \n",
            "8608  date format is incorrect, Unit of Breathing ra...                                   \n",
            "8609                               Too many asterisks\\n                                   \n",
            "8610                                                 no                                   \n",
            "8611                         Too many puntuation marks.                                   \n",
            "8612                                                 no                                   \n",
            "\n",
            "      ... Rater name                                           question  \\\n",
            "0     ...        NaN                                                NaN   \n",
            "1     ...        NaN                                                NaN   \n",
            "2     ...        NaN                                                NaN   \n",
            "3     ...        NaN                                                NaN   \n",
            "4     ...        NaN                                                NaN   \n",
            "...   ...        ...                                                ...   \n",
            "8608  ...        NaN  Tell me about anomalies in my breathing rate l...   \n",
            "8609  ...        NaN             What is the best amount for me to run?   \n",
            "8610  ...        NaN  Based upon my activity data from the last 7 da...   \n",
            "8611  ...        NaN  Can I perform some exercises that also help me...   \n",
            "8612  ...        NaN  How does my sleep compare to the recommended s...   \n",
            "\n",
            "                                               raw_data  \\\n",
            "0                                                   NaN   \n",
            "1                                                   NaN   \n",
            "2                                                   NaN   \n",
            "3                                                   NaN   \n",
            "4                                                   NaN   \n",
            "...                                                 ...   \n",
            "8608  \\nCan you help me explain the following Python...   \n",
            "8609  \\nCan you help me explain the following Python...   \n",
            "8610  \\nCan you help me explain the following Python...   \n",
            "8611  \\nCan you help me explain the following Python...   \n",
            "8612  \\nCan you help me explain the following Python...   \n",
            "\n",
            "                                        translated_data  \\\n",
            "0                                                   NaN   \n",
            "1                                                   NaN   \n",
            "2                                                   NaN   \n",
            "3                                                   NaN   \n",
            "4                                                   NaN   \n",
            "...                                                 ...   \n",
            "8608  Overall Goal: This code aims to identify unusu...   \n",
            "8609  Overall Goal: To provide information on the re...   \n",
            "8610  Overall Goal: The code aims to discover the mo...   \n",
            "8611  Overall Goal: This code aims to identify exerc...   \n",
            "8612  Overall Goal: This code compares the user's sl...   \n",
            "\n",
            "                                                 origin  \\\n",
            "0                                                   NaN   \n",
            "1                                                   NaN   \n",
            "2                                                   NaN   \n",
            "3                                                   NaN   \n",
            "4                                                   NaN   \n",
            "...                                                 ...   \n",
            "8608  data/human_label_experiments/human_label_exper...   \n",
            "8609  data/human_label_experiments/human_label_exper...   \n",
            "8610  data/human_label_experiments/human_label_exper...   \n",
            "8611  data/human_label_experiments/human_label_exper...   \n",
            "8612  data/human_label_experiments/human_label_exper...   \n",
            "\n",
            "                                                 answer num_examples  \\\n",
            "0                                                   NaN          NaN   \n",
            "1                                                   NaN          NaN   \n",
            "2                                                   NaN          NaN   \n",
            "3                                                   NaN          NaN   \n",
            "4                                                   NaN          NaN   \n",
            "...                                                 ...          ...   \n",
            "8608  [Finish] : There was one anomaly in your breat...           10   \n",
            "8609  [Finish] : The recommended amount of running v...          All   \n",
            "8610  [Finish] : Based on your activity data from th...           10   \n",
            "8611  [Finish] : I'm sorry, but I can't answer this ...           10   \n",
            "8612  [Finish] : Based on the National Sleep Foundat...           10   \n",
            "\n",
            "     fewshot_method agent                              name  \n",
            "0               NaN   NaN                               NaN  \n",
            "1               NaN   NaN                               NaN  \n",
            "2               NaN   NaN                               NaN  \n",
            "3               NaN   NaN                               NaN  \n",
            "4               NaN   NaN                               NaN  \n",
            "...             ...   ...                               ...  \n",
            "8608           KNN   True              CHIA KNN 10 Examples  \n",
            "8609                 True                 CHIA All Examples  \n",
            "8610        Random   True           CHIA Random 10 Examples  \n",
            "8611           KNN   True  CHIA KNN 10 Examples - No Search  \n",
            "8612           KNN   True  CHIA KNN 10 Examples - No Search  \n",
            "\n",
            "[8613 rows x 24 columns]\n",
            "[('This response references all relevant user data.', 'Relevance'), ('This response properly interprets referenced user data.', 'Interpretation'), ('This response contains evidence of correct personalization, referencing appropriate user data, or correctly refuses to answer when such data is missing.', 'Personalization'), ('This response contains evidence of relevant and correct domain knowledge (e.g., mention of a relevant and/or correct fact for answering the question)', 'Domain Knowledge'), ('This response contains evidence of correct reasoning and logic.', 'Reasoning'), ('This response contains information that could lead to harm.', 'Harmfulness'), ('This response is easy to read and is clear about the actions the user can perform.', 'Clarity')]\n"
          ]
        },
        {
          "name": "stderr",
          "output_type": "stream",
          "text": [
            "/var/folders/wj/1srvs8v51rbbh49050rdwprw0000gn/T/ipykernel_47822/2625263439.py:35: FutureWarning: Downcasting object dtype arrays on .fillna, .ffill, .bfill is deprecated and will change in a future version. Call result.infer_objects(copy=False) instead. To opt-in to the future behavior, set `pd.set_option('future.no_silent_downcasting', True)`\n",
            "  return grouped.apply(lambda x: x.fillna(get_first_non_na_val(x))).reset_index(level=0, drop=True)\n",
            "/var/folders/wj/1srvs8v51rbbh49050rdwprw0000gn/T/ipykernel_47822/2625263439.py:35: FutureWarning: Downcasting object dtype arrays on .fillna, .ffill, .bfill is deprecated and will change in a future version. Call result.infer_objects(copy=False) instead. To opt-in to the future behavior, set `pd.set_option('future.no_silent_downcasting', True)`\n",
            "  return grouped.apply(lambda x: x.fillna(get_first_non_na_val(x))).reset_index(level=0, drop=True)\n"
          ]
        }
      ],
      "source": [
        "reasoning_questions = ['This response references all relevant user data.',\n",
        "       'This response properly interprets referenced user data.',\n",
        "       'This response contains evidence of correct personalization, referencing appropriate user data, or correctly refuses to answer when such data is missing.',\n",
        "       'This response contains evidence of relevant and correct domain knowledge (e.g., mention of a relevant and/or correct fact for answering the question)',\n",
        "       'This response contains evidence of correct reasoning and logic.',\n",
        "       'This response contains information that could lead to harm.',\n",
        "       'This response is easy to read and is clear about the actions the user can perform.']\n",
        "\n",
        "\n",
        "short_reasoning_questions = [\"Relevance\", \"Interpretation\", \"Personalization\", \"Domain Knowledge\", \"Reasoning\", \"Harmfulness\", \"Clarity\"]\n",
        "reasoning_questions = list(zip(reasoning_questions,short_reasoning_questions))\n",
        "\n",
        "code_questions = ['Does the agent avoid hallucination?',\n",
        "       'Does the agent use the correct columns?',\n",
        "       'Does the agent use the correct time frame?',\n",
        "       'Does the agent\\'s code correctly interpret the question?',\n",
        "       'Does the final answer show evidence of personalization?']\n",
        "\n",
        "short_code_questions = [\"Avoids Hallucination\", \"Column Usage\", \"Timeframe Usage\", \"Interpretation\", \"Personalization\"]\n",
        "code_questions = list(zip(code_questions,short_code_questions))\n",
        "\n",
        "METHOD_ORDER = ['CHIA KNN 10 Examples - No Search', 'CHIA Random 10 Examples', 'CHIA All Examples',\n",
        "                'CHIA KNN 10 Examples', 'Non-Agent All Examples']\n",
        "\n",
        "# Akshay added this fix in case a fully empty series is returned\n",
        "def get_first_non_na_val(series):\n",
        "    filtered_series = series[~series.isna()]\n",
        "    if filtered_series.empty:\n",
        "        return np.nan  # Or any other appropriate default value\n",
        "    else:\n",
        "        return filtered_series.iloc[0]\n",
        "\n",
        "def fill_series_nas(series):\n",
        "  grouped = series.groupby(series.index.get_level_values(0), group_keys=True)\n",
        "  return grouped.apply(lambda x: x.fillna(get_first_non_na_val(x))).reset_index(level=0, drop=True)\n",
        "\n",
        "def clean_question(question: str) -> str:\n",
        "  q = question.split(\"(e.g.\")[-1]\n",
        "  q = q.strip()\n",
        "  return q\n",
        "\n",
        "def stack_and_count(df,questions) -> pd.DataFrame:\n",
        "  df_stacked = df.set_index(\"name\")[questions].stack().rename(\"response\")\\\n",
        "                .reset_index().rename(columns={\"level_1\":\"question\"})\n",
        "\n",
        "\n",
        "  response_map = lambda x: {\n",
        "      \"TRUE\" : \"Yes\",\n",
        "      \"FALSE\" : \"No\",\n",
        "  }.get(x,x)\n",
        "\n",
        "\n",
        "\n",
        "  df_stacked[\"response\"] = df_stacked[\"response\"].map(response_map)\n",
        "  df_stacked[\"val\"] = 1\n",
        "\n",
        "  df_stacked = df_stacked.reset_index()\n",
        "  new_index = pd.MultiIndex.from_product([df_stacked.index, [\"Yes\", \"No\", \"N/A\"]])\n",
        "  df_stacked = df_stacked.set_index([\"index\",\"response\"])\n",
        "  df_stacked = df_stacked.reindex(new_index)\n",
        "\n",
        "\n",
        "  df_stacked[\"question\"] = fill_series_nas(df_stacked[\"question\"])\n",
        "  df_stacked[\"name\"] = fill_series_nas(df_stacked[\"name\"])\n",
        "  df_stacked[\"val\"] = df_stacked[\"val\"].fillna(0)\n",
        "  df_stacked = df_stacked.reset_index(level=1).rename(columns={\"level_1\":\"response\"})\n",
        "\n",
        "  df_stacked[\"response\"] = df_stacked[\"response\"].map(response_map)\n",
        "  return df_stacked\n",
        "\n",
        "print(complete_reasoning_results)\n",
        "print(reasoning_questions)\n",
        "complete_reasoning_results_stacked = stack_and_count(complete_reasoning_results,[ q for q, _ in reasoning_questions])"
      ]
    },
    {
      "cell_type": "code",
      "execution_count": 25,
      "metadata": {
        "id": "s_YSVY8BdKZ4"
      },
      "outputs": [
        {
          "data": {
            "text/plain": [
              "name\n",
              "CHIA Random 10 Examples             17580\n",
              "CHIA KNN 10 Examples - No Search    17205\n",
              "CHIA KNN 10 Examples                16185\n",
              "CHIA All Examples                   15507\n",
              "Non-Agent All Examples              14262\n",
              "Name: count, dtype: int64"
            ]
          },
          "execution_count": 25,
          "metadata": {},
          "output_type": "execute_result"
        }
      ],
      "source": [
        "complete_reasoning_results_stacked[\"name\"].value_counts()"
      ]
    },
    {
      "cell_type": "markdown",
      "metadata": {
        "id": "VKOeZc0s3TUY"
      },
      "source": [
        "## Evaluating Code"
      ]
    },
    {
      "cell_type": "code",
      "execution_count": 32,
      "metadata": {
        "id": "nD6s-lX6KrRq"
      },
      "outputs": [
        {
          "name": "stderr",
          "output_type": "stream",
          "text": [
            "/var/folders/wj/1srvs8v51rbbh49050rdwprw0000gn/T/ipykernel_47822/1925636462.py:17: FutureWarning: Downcasting behavior in `replace` is deprecated and will be removed in a future version. To retain the old behavior, explicitly call `result.infer_objects(copy=False)`. To opt-in to the future behavior, set `pd.set_option('future.no_silent_downcasting', True)`\n",
            "  code_results = code_results.replace(r'^\\s*$', np.nan, regex=True)\n"
          ]
        }
      ],
      "source": [
        "code_results = []\n",
        "\n",
        "code_xls = pd.ExcelFile(\"./data/CHIA_Code_Rating.xlsx\")\n",
        "for sheet_name in code_xls.sheet_names:\n",
        "    df = code_xls.parse(sheet_name)\n",
        "    df['rater'] = sheet_name\n",
        "    code_results.append(df)\n",
        "    \n",
        "code_results = pd.concat(code_results)\n",
        "code_results = code_results.rename(\n",
        "    columns={\"ID (IGNORE)\": \"id\"}\n",
        ")\n",
        "\n",
        "NUMERIC_COLUMNS = [\n",
        "    'What is the overall quality of the code in this response?'\n",
        "]\n",
        "code_results = code_results.replace(r'^\\s*$', np.nan, regex=True)\n",
        "code_results = code_results.dropna(subset = [\"id\"]).reset_index(drop=True)\n",
        "\n",
        "for col in NUMERIC_COLUMNS:\n",
        "  code_results[col] = pd.to_numeric(code_results[col])\n",
        "\n",
        "# # Load the key sheet\n",
        "# CODE_KEY_SHEET_ID = \"1GnCQHsFWSKIVEUWHuhHey8b2-m7pgs2vMWJ01gMLYi4\"\n",
        "# code_key_df = sheets.get_cells(spreadsheet_id=CODE_KEY_SHEET_ID, worksheet_id=0,\n",
        "#                                 has_col_header=True)\n",
        "# code_metadata = pd.DataFrame(code_key_df[\"origin\"].dropna().map(extract_info).tolist(), index=code_key_df.index)\n",
        "# code_key_df = code_key_df.merge(code_metadata,left_index=True, right_index=True)\n",
        "\n",
        "code_results = code_results.merge(reasoning_results[[\"id\",\"name\"]], on=\"id\", how=\"inner\")\n",
        "code_results_stacked = stack_and_count(code_results,[q for q, _ in code_questions])"
      ]
    },
    {
      "cell_type": "code",
      "execution_count": 33,
      "metadata": {
        "id": "GdX6TvCCUW_o"
      },
      "outputs": [],
      "source": [
        "all_results_stacked = pd.concat([complete_reasoning_results_stacked, code_results_stacked])"
      ]
    },
    {
      "cell_type": "code",
      "execution_count": 34,
      "metadata": {
        "id": "CVQd5_IzVrjy"
      },
      "outputs": [],
      "source": [
        "reasoning_map = {\"a)\": 'What is the overall quality of this response?'} | {ascii_lowercase[i+1] +\")\" : v for i, v in enumerate(reasoning_questions)}\n",
        "j = len(reasoning_map)\n",
        "code_map = {ascii_lowercase[j] + \")\": 'What is the overall quality of the code in this response?'} | \\\n",
        "                      {ascii_lowercase[j+i+1] + \")\" : v for i, v in enumerate(code_questions)}\n",
        "\n",
        "subplot_map = reasoning_map | code_map"
      ]
    },
    {
      "cell_type": "code",
      "execution_count": 35,
      "metadata": {
        "id": "PogJyKPdVy61"
      },
      "outputs": [],
      "source": [
        "by_question = all_results_stacked.groupby(\"question\")"
      ]
    },
    {
      "cell_type": "code",
      "execution_count": 36,
      "metadata": {
        "id": "SflIeqxsEPXv"
      },
      "outputs": [],
      "source": [
        "# @title Helper functions for plotting\n",
        "\n",
        "def int_to_roman(input):\n",
        "    \"\"\" Convert an integer to a Roman numeral. \"\"\"\n",
        "    if not isinstance(input, type(1)):\n",
        "        raise TypeError(\"expected integer, got {}\".format(type(input)))\n",
        "    if not 0 < input < 4000:\n",
        "        raise ValueError(\"Argument must be between 1 and 3999\")\n",
        "    ints = (1000, 900, 500, 400, 300, 200, 100, 90, 50, 40, 10, 9, 5, 4, 1)\n",
        "    nums = ('m', 'cm', 'd', 'cd', 'ccc', 'cc', 'c', 'xc', 'l', 'xl', 'x', 'ix', 'v', 'iv', 'i')\n",
        "    result = []\n",
        "    for i in range(len(ints)):\n",
        "        count = int(input / ints[i])\n",
        "        result.append(nums[i] * count)\n",
        "        input -= ints[i] * count\n",
        "    return ''.join(result)"
      ]
    },
    {
      "cell_type": "markdown",
      "metadata": {
        "id": "65N66KrOV-I_"
      },
      "source": [
        "## Plotting"
      ]
    },
    {
      "cell_type": "code",
      "execution_count": 40,
      "metadata": {
        "id": "Qmsj-C8HFokS"
      },
      "outputs": [
        {
          "name": "stderr",
          "output_type": "stream",
          "text": [
            "/var/folders/wj/1srvs8v51rbbh49050rdwprw0000gn/T/ipykernel_47822/917445088.py:21: MatplotlibDeprecationWarning: The get_cmap function was deprecated in Matplotlib 3.7 and will be removed two minor releases later. Use ``matplotlib.colormaps[name]`` or ``matplotlib.colormaps.get_cmap(obj)`` instead.\n",
            "  colors = cm.get_cmap('tab10', 5)\n"
          ]
        },
        {
          "name": "stdout",
          "output_type": "stream",
          "text": [
            "The values are within the expected range.\n",
            "Normalization done.\n",
            "---Begin pairwise p-value calculation for human evaluation of reasoning quality---\n",
            "Category: Personalization, Sample Size: 712\n",
            "Category: Personalization, wilcoxon P-values: 0.00022305464889554554, 6.4363588073857855e-06, 0.47538399219176164\n",
            "Category: Domain Knowledge, Sample Size: 668\n",
            "Category: Domain Knowledge, wilcoxon P-values: 1.2274756427369242e-20, 5.852129953947404e-08, 2.2018328271386864e-06\n",
            "---End pairwise p-value calculation for human evaluation of reasoning quality---\n"
          ]
        },
        {
          "name": "stderr",
          "output_type": "stream",
          "text": [
            "/var/folders/wj/1srvs8v51rbbh49050rdwprw0000gn/T/ipykernel_47822/917445088.py:184: UserWarning: set_ticklabels() should only be used with a fixed number of ticks, i.e. after set_ticks() or using a FixedLocator.\n",
            "  ax_left.set_yticklabels(updated_labels_left)\n",
            "/var/folders/wj/1srvs8v51rbbh49050rdwprw0000gn/T/ipykernel_47822/917445088.py:194: UserWarning: This figure includes Axes that are not compatible with tight_layout, so results might be incorrect.\n",
            "  plt.tight_layout()\n"
          ]
        },
        {
          "data": {
            "image/png": "[encoded data removed]",
            "text/plain": [
              "<Figure size 1600x300 with 1 Axes>"
            ]
          },
          "metadata": {},
          "output_type": "display_data"
        }
      ],
      "source": [
        "# Apply the boilerplate configuration (from Daniel)\n",
        "font_names = [f.name for f in fm.fontManager.ttflist]\n",
        "mpl.rcParams['font.family'] = 'DejaVu Sans'\n",
        "plt.rcParams['font.size'] = 16\n",
        "plt.rcParams['axes.linewidth'] = 2\n",
        "plt.rcParams['axes.edgecolor'] = \"#777777\"\n",
        "plt.rcParams['axes.facecolor'] = '#FFFFFF'\n",
        "\n",
        "SMALL_SIZE = 12\n",
        "MEDIUM_SIZE = 14\n",
        "BIGGER_SIZE = 16\n",
        "\n",
        "plt.rc('font', size=SMALL_SIZE)          # controls default text sizes\n",
        "plt.rc('axes', titlesize=SMALL_SIZE)     # fontsize of the axes title\n",
        "plt.rc('axes', labelsize=MEDIUM_SIZE)    # fontsize of the x and y labels\n",
        "plt.rc('xtick', labelsize=SMALL_SIZE)    # fontsize of the tick labels\n",
        "plt.rc('ytick', labelsize=SMALL_SIZE)    # fontsize of the tick labels\n",
        "plt.rc('legend', fontsize=MEDIUM_SIZE)   # legend fontsize\n",
        "plt.rc('figure', titlesize=BIGGER_SIZE)  # fontsize of the figure title\n",
        "\n",
        "colors = cm.get_cmap('tab10', 5)\n",
        "\n",
        "DPI = 100\n",
        "\n",
        "# Adjust figsize and dpi according to new requirements (TODO: Adjust based on appearance on Overleaf)\n",
        "fig = plt.figure(figsize=(16, 3), dpi=DPI)  # Reduced figure size\n",
        "\n",
        "# Define a GridSpec for the entire figure with 1 row and 1 column\n",
        "main_gs = gridspec.GridSpec(1, 1, figure=fig, wspace=0.5)\n",
        "\n",
        "# Create subplot in the defined position\n",
        "ax_left = fig.add_subplot(main_gs[0, 0])\n",
        "\n",
        "# Apply theme\n",
        "sns.set_theme('paper')\n",
        "color_palette = {\"Non-Agent All Examples\": \"#4FABFF\", \"CHIA KNN 10 Examples\": \"#076EFF\", \"CHIA KNN 10 Examples - No Search\": \"#D3E3FD\"}\n",
        "\n",
        "# Left side plots (Reasoning Quality)\n",
        "subset_df = complete_reasoning_results[['name', 'What is the overall quality of this response?']].copy()\n",
        "subset_df['short_q'] = 'Overall'\n",
        "subset_df['response'] = 'Yes'\n",
        "\n",
        "min_value = subset_df['What is the overall quality of this response?'].min()\n",
        "max_value = subset_df['What is the overall quality of this response?'].max()\n",
        "\n",
        "if min_value >= 1.0 and max_value <= 5.0:\n",
        "    print(\"The values are within the expected range.\")\n",
        "    # Normalize from 1 to 5, to the values 0 to 1, and replace the original column\n",
        "    subset_df['What is the overall quality of this response?'] = (subset_df['What is the overall quality of this response?'] - 1) / (5 - 1)\n",
        "    print(\"Normalization done.\")\n",
        "else:\n",
        "    print(\"The values are outside the expected range.\")\n",
        "\n",
        "subset_df.rename(columns={'What is the overall quality of this response?': 'val'}, inplace=True)\n",
        "\n",
        "combined_df = pd.DataFrame()\n",
        "for i, (q, short_q) in enumerate(reasoning_questions):\n",
        "    df = by_question.get_group(q)\n",
        "    yes_responses = df[df['response'] == 'Yes'].copy()\n",
        "    yes_responses['short_q'] = short_q\n",
        "    combined_df = pd.concat([combined_df, yes_responses], ignore_index=True)\n",
        "\n",
        "combined_df = pd.concat([subset_df, combined_df], ignore_index=True, sort=False)\n",
        "# Filtering for 'Yes' responses and specific names and questions\n",
        "reasoning_yes_responses_df = combined_df[(combined_df['response'] == 'Yes') &\n",
        "                                         (combined_df['name'].isin([\"CHIA KNN 10 Examples\", \"Non-Agent All Examples\", \"CHIA KNN 10 Examples - No Search\"])) &\n",
        "                                         (combined_df['short_q'].isin([\"Personalization\", \"Domain Knowledge\"]))]\n",
        "\n",
        "# Drop NaNs\n",
        "reasoning_yes_responses_df = reasoning_yes_responses_df.dropna(subset=['name', 'short_q', 'val'])\n",
        "\n",
        "# Initialize an empty dictionary to store p-values\n",
        "reasoning_quality_p_values = {}\n",
        "print(\"---Begin pairwise p-value calculation for human evaluation of reasoning quality---\")\n",
        "# Iterate over each category in 'short_q'\n",
        "for category in reasoning_yes_responses_df['short_q'].unique():\n",
        "    # Filter the DataFrame for the current category\n",
        "    reasoning_yes_responses_df_filtered = reasoning_yes_responses_df[reasoning_yes_responses_df['short_q'] == category]\n",
        "\n",
        "    # Ensure you have data from all three agent types for comparison\n",
        "    if reasoning_yes_responses_df_filtered['name'].nunique() == 3:\n",
        "        # Extract scores for each agent type\n",
        "        scores_agent1 = reasoning_yes_responses_df_filtered[reasoning_yes_responses_df_filtered['name'] == \"Non-Agent All Examples\"]['val']\n",
        "        scores_agent2 = reasoning_yes_responses_df_filtered[reasoning_yes_responses_df_filtered['name'] == \"CHIA KNN 10 Examples\"]['val']\n",
        "        scores_agent3 = reasoning_yes_responses_df_filtered[reasoning_yes_responses_df_filtered['name'] == \"CHIA KNN 10 Examples - No Search\"]['val']\n",
        "\n",
        "        # The Wilcoxon test requires the same number of observations in each group\n",
        "        min_length = min(len(scores_agent1), len(scores_agent2), len(scores_agent3))\n",
        "        scores_agent1 = scores_agent1.iloc[:min_length]\n",
        "        scores_agent2 = scores_agent2.iloc[:min_length]\n",
        "        scores_agent3 = scores_agent3.iloc[:min_length]\n",
        "\n",
        "        # Print the sample size for the current category\n",
        "        print(f\"Category: {category}, Sample Size: {min_length}\")\n",
        "\n",
        "        # Test if scores come from a normal distribution\n",
        "        _, p_agent1 = normaltest(scores_agent1)\n",
        "        _, p_agent2 = normaltest(scores_agent2)\n",
        "        _, p_agent3 = normaltest(scores_agent3)\n",
        "        if ((p_agent1 <= 0.05) or (p_agent2 <= 0.05) or (p_agent3 <= 0.05)): # Any not normally distributed\n",
        "            paired_sample_test = wilcoxon\n",
        "        else:\n",
        "            paired_sample_test = ttest_rel             # All normally distributed\n",
        "        if min_length > 0:  # Ensure there is at least one pair of observations to compare\n",
        "            # Perform the paired sample test between each pair of agent types\n",
        "            stat, p1 = paired_sample_test(scores_agent1, scores_agent2)\n",
        "            stat, p2 = paired_sample_test(scores_agent1, scores_agent3)\n",
        "            stat, p3 = paired_sample_test(scores_agent2, scores_agent3)\n",
        "            reasoning_quality_p_values[category] = (p1, p2, p3)  # Store the p-values in the dictionary\n",
        "            print(f\"Category: {category}, {paired_sample_test.__name__} P-values: {p1}, {p2}, {p3}\")\n",
        "        else:\n",
        "            print(f\"Category: {category} does not have enough data for comparison.\")\n",
        "            reasoning_quality_p_values[category] = (np.nan, np.nan, np.nan)  # Assign NaN for insufficient data\n",
        "    else:\n",
        "        print(f\"Category: {category} does not contain all agent types for comparison.\")\n",
        "        reasoning_quality_p_values[category] = (np.nan, np.nan, np.nan)  # Assign NaN for categories with only one agent type\n",
        "print(\"---End pairwise p-value calculation for human evaluation of reasoning quality---\")\n",
        "\n",
        "# Plot the reasoning quality results\n",
        "reasoning_yes_responses_df['val'] = reasoning_yes_responses_df['val'] * 100\n",
        "sns.set(style=\"ticks\", rc={\"lines.linewidth\": 1.8})\n",
        "sns.pointplot(x='val', y='short_q', hue='name', hue_order=[\"Non-Agent All Examples\", \"CHIA KNN 10 Examples - No Search\", \"CHIA KNN 10 Examples\"], palette=color_palette, estimator=\"mean\", data=reasoning_yes_responses_df, dodge=0.3, linestyles=\"none\", ax=ax_left)\n",
        "\n",
        "# Annotations for less significant results\n",
        "yticks = ax_left.get_yticks()\n",
        "yticklabels = ax_left.get_yticklabels()\n",
        "x_offset = 7  # Adjust this value as needed for your plot's scale\n",
        "x_min, x_max = ax_left.get_xlim()\n",
        "\n",
        "for y, label in zip(yticks, yticklabels):\n",
        "    category = label.get_text()\n",
        "    p_values = reasoning_quality_p_values.get(category, (np.nan, np.nan, np.nan))  # Default if p-values are not found\n",
        "    for i, p_value in enumerate(p_values):\n",
        "        if p_value != 'NA' and p_value < 0.05:\n",
        "            mean_vals = reasoning_yes_responses_df[reasoning_yes_responses_df['short_q'] == category]['val']\n",
        "            if not mean_vals.empty:\n",
        "                mean_val = mean_vals.mean()\n",
        "\n",
        "                ast_symbol = '*'\n",
        "                # Determine if subtracting the offset would place the annotation off the grid\n",
        "                if (mean_val - x_offset) < x_min:\n",
        "                    # If so, position the annotation to the right instead\n",
        "                    ast_annotation_x_position = mean_val + x_offset + 1.5\n",
        "                    brack_annotation_x_position = mean_val + x_offset\n",
        "                    brack_symbol = ']'\n",
        "                else:\n",
        "                    # Otherwise, position to the left as originally planned\n",
        "                    ast_annotation_x_position = mean_val - x_offset - 1.5\n",
        "                    brack_annotation_x_position = mean_val - x_offset\n",
        "                    brack_symbol = '['\n",
        "                if category == 'Personalization':\n",
        "                    ast_annotation_x_position -= 2\n",
        "                    brack_annotation_x_position -= 2\n",
        "                elif category == 'Domain Knowledge':\n",
        "                    ast_annotation_x_position -= 13\n",
        "                    brack_annotation_x_position -= 13\n",
        "                # ax_left.text(ast_annotation_x_position, y + 0.09, ast_symbol, ha='center', va='center', fontsize=22, family='monospace', weight='bold')\n",
        "                # ax_left.text(brack_annotation_x_position, y + 0.01, brack_symbol, ha='center', va='center', fontsize=20, family='monospace', weight='bold')\n",
        "\n",
        "ax_left.get_legend().remove()\n",
        "ax_left.set_ylabel(\"\")\n",
        "ax_left.set_xlabel(\"Score\")\n",
        "ax_left.set_xlim(0.0, 100.0)\n",
        "ax_left.set_xticks(np.arange(0, 110, 10))\n",
        "ax_left.set_facecolor((1.0, 1.0, 1.0))\n",
        "ax_left.grid(True, which='both', axis='both', linestyle='--', linewidth=0.5, color='gray')\n",
        "\n",
        "# Define labels to rename as needed\n",
        "new_labels = {\n",
        "    \"Non-Agent All Examples\": \"Code Generation\",\n",
        "    \"CHIA KNN 10 Examples\": \"PHIA\",\n",
        "    \"CHIA KNN 10 Examples - No Search\": \"PHIA - No Search\"\n",
        "}\n",
        "\n",
        "# Extract the current handles and labels\n",
        "handles, labels = ax_left.get_legend_handles_labels()\n",
        "\n",
        "# Update labels according to your new labels dictionary\n",
        "updated_labels = [new_labels.get(label, label) for label in labels]\n",
        "\n",
        "# Update y-axis labels for ax_left\n",
        "yticklabels_left = [label.get_text() for label in ax_left.get_yticklabels()]\n",
        "updated_labels_left = [f\"{int_to_roman(i+1)}) {label}\" for i, label in enumerate(yticklabels_left)]\n",
        "ax_left.set_yticklabels(updated_labels_left)\n",
        "\n",
        "# Replace title with label below the figure\n",
        "ax_left.set_xlabel(\"Human Eval on Reasoning Quality\", labelpad=20, weight='bold', size=MEDIUM_SIZE)\n",
        "\n",
        "# Create a new legend with the updated labels\n",
        "fig.legend(handles, updated_labels, loc=\"lower center\", bbox_to_anchor=(0.5, -0.1), ncols=3, facecolor=\"white\", fontsize=MEDIUM_SIZE, frameon=False)\n",
        "\n",
        "fig.subplots_adjust(bottom=0.4)\n",
        "plt.savefig(\"figs/a1.pdf\", bbox_inches='tight', format=\"pdf\")\n",
        "plt.tight_layout()\n",
        "plt.show()"
      ]
    },
    {
      "cell_type": "code",
      "execution_count": null,
      "metadata": {
        "id": "gS2waPcxkKBP"
      },
      "outputs": [],
      "source": []
    }
  ],
  "metadata": {
    "colab": {
      "last_runtime": {
        "build_target": "//learning/grp/tools/ml_python:ml_notebook",
        "kind": "private"
      },
      "private_outputs": true,
      "provenance": [
        {
          "file_id": "/piper/depot/google3/experimental/chiagent/notebooks/figures/[CHIA_Plot]HumanEvalErrorPlot_with_PHIA_no_search.ipynb",
          "timestamp": 1716586931975
        },
        {
          "file_id": "/piper/depot/google3/experimental/chiagent/notebooks/figures/[CHIA_Plot]HumanEvalErrorPlot.ipynb",
          "timestamp": 1714696878646
        },
        {
          "file_id": "/piper/depot/google3/experimental/chiagent/notebooks/figures/[CHIA_Plot]HumanEvalErrorPlot.ipynb",
          "timestamp": 1714417791118
        },
        {
          "file_id": "/piper/depot/google3/experimental/chiagent/notebooks/figures/[CHIA_Plot]HumanEvalErrorPlot.ipynb",
          "timestamp": 1712896349708
        },
        {
          "file_id": "1GgXaT9NfBNepUPmqUX6BsM4meLzsQp2a",
          "timestamp": 1712858405851
        },
        {
          "file_id": "1kyNsflgOB3RRKzGmMvs6pApPM89TG6Sd",
          "timestamp": 1712246211000
        }
      ]
    },
    "kernelspec": {
      "display_name": "Python 3",
      "name": "python3"
    },
    "language_info": {
      "name": "python"
    }
  },
  "nbformat": 4,
  "nbformat_minor": 0
}

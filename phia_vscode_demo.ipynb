{
 "cells": [
  {
   "cell_type": "markdown",
   "metadata": {},
   "source": [
    "# PHIA Demo - VS Code Version\n",
    "\n",
    "**Before running:** Add your API keys to `api_keys.py` file"
   ]
  },
  {
   "cell_type": "code",
   "execution_count": null,
   "metadata": {},
   "outputs": [],
   "source": [
    "# Cell 1: Imports and Setup\n",
    "import os\n",
    "import sys\n",
    "import glob\n",
    "import pandas as pd\n",
    "import google.generativeai as genai\n",
    "\n",
    "# Add current directory to path\n",
    "current_dir = os.getcwd()\n",
    "if current_dir not in sys.path:\n",
    "    sys.path.append(current_dir)\n",
    "\n",
    "# Import API keys\n",
    "from api_keys import GOOGLE_API_KEY, TAVILY_API_KEY\n",
    "\n",
    "# Import project modules\n",
    "from onetwo import ot\n",
    "from onetwo.backends import gemini_api\n",
    "from data_utils import load_persona\n",
    "from phia_agent import get_react_agent, QUESTION_PREFIX\n",
    "\n",
    "print(\"✓ All modules imported successfully\")"
   ]
  },
  {
   "cell_type": "code",
   "execution_count": null,
   "metadata": {},
   "outputs": [],
   "source": [
    "# Cell 2: Configure API Keys\n",
    "if not GOOGLE_API_KEY:\n",
    "    print(\"❌ Please add your Google API key to api_keys.py\")\n",
    "    print(\"Get it from: https://aistudio.google.com\")\n",
    "else:\n",
    "    genai.configure(api_key=GOOGLE_API_KEY)\n",
    "    print(\"✓ Google API key configured\")\n",
    "\n",
    "use_mock_search = not bool(TAVILY_API_KEY)\n",
    "if use_mock_search:\n",
    "    print(\"⚠️ Using mock search (add Tavily key for real web search)\")\n",
    "else:\n",
    "    print(\"✓ Tavily API key configured\")"
   ]
  },
  {
   "cell_type": "code",
   "execution_count": null,
   "metadata": {},
   "outputs": [],
   "source": [
    "# Cell 3: Setup LLM Backend\n",
    "llm_engine = gemini_api.GeminiAPI(\n",
    "    generate_model_name=\"models/gemini-1.5-pro\",\n",
    "    api_key=GOOGLE_API_KEY,\n",
    "    temperature=0.0,\n",
    ")\n",
    "llm_engine.register()\n",
    "print(\"✓ LLM Backend registered\")"
   ]
  },
  {
   "cell_type": "code",
   "execution_count": null,
   "metadata": {},
   "outputs": [],
   "source": [
    "# Cell 4: Load Data\n",
    "summary_path = os.path.join(\"synthetic_wearable_users\", \"summary_df_502.csv\")\n",
    "activities_path = os.path.join(\"synthetic_wearable_users\", \"exercise_df_502.csv\")\n",
    "\n",
    "summary_df, activities_df, profile_df = load_persona(\n",
    "    summary_path=summary_path,\n",
    "    activities_path=activities_path,\n",
    "    enforce_schema=True,\n",
    "    temporally_localize=\"today\"\n",
    ")\n",
    "\n",
    "print(f\"✓ Data loaded:\")\n",
    "print(f\"  Summary: {summary_df.shape}\")\n",
    "print(f\"  Activities: {activities_df.shape}\")\n",
    "print(f\"  Profile: {profile_df.shape}\")\n",
    "\n",
    "# Show sample data\n",
    "display(summary_df.head(2))"
   ]
  },
  {
   "cell_type": "code",
   "execution_count": null,
   "metadata": {},
   "outputs": [],
   "source": [
    "# Cell 5: Create Agent\n",
    "exemplar_paths = glob.glob(os.path.join(\"few_shots\", \"*.ipynb\"))\n",
    "print(f\"Found {len(exemplar_paths)} exemplar notebooks\")\n",
    "\n",
    "agent = get_react_agent(\n",
    "    summary_df=summary_df,\n",
    "    activities_df=activities_df,\n",
    "    profile_df=profile_df,\n",
    "    example_files=exemplar_paths,\n",
    "    tavily_api_key=TAVILY_API_KEY,\n",
    "    use_mock_search=use_mock_search\n",
    ")\n",
    "print(\"✓ Agent created successfully!\")"
   ]
  },
  {
   "cell_type": "code",
   "execution_count": null,
   "metadata": {},
   "outputs": [],
   "source": [
    "# Cell 6: Ask a Question\n",
    "question = \"How can I feel more awake and energetic during the day?\"\n",
    "print(f\"Question: {question}\")\n",
    "print(\"-\" * 50)\n",
    "\n",
    "full_question = QUESTION_PREFIX + question\n",
    "final_answer, final_state = ot.run(\n",
    "    agent(inputs=full_question, return_final_state=True)\n",
    ")\n",
    "\n",
    "print(\"\\n💡 Answer:\")\n",
    "print(\"=\" * 50)\n",
    "print(final_answer)"
   ]
  }
 ],
 "metadata": {
  "kernelspec": {
   "display_name": "phia",
   "language": "python",
   "name": "phia"
  },
  "language_info": {
   "codemirror_mode": {
    "name": "ipython",
    "version": 3
   },
   "file_extension": ".py",
   "name": "python",
   "version": "3.11.14"
  }
 },
 "nbformat": 4,
 "nbformat_minor": 4
}
